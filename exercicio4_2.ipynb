{
  "nbformat": 4,
  "nbformat_minor": 0,
  "metadata": {
    "colab": {
      "name": "exercicio4_2.ipynb",
      "provenance": [],
      "collapsed_sections": [],
      "authorship_tag": "ABX9TyNHtSe0e2KiQX+XW+u5K2QT",
      "include_colab_link": true
    },
    "kernelspec": {
      "name": "python3",
      "display_name": "Python 3"
    }
  },
  "cells": [
    {
      "cell_type": "markdown",
      "metadata": {
        "id": "view-in-github",
        "colab_type": "text"
      },
      "source": [
        "<a href=\"https://colab.research.google.com/github/murilosenai/Estudo-de-Python/blob/master/exercicio4_2.ipynb\" target=\"_parent\"><img src=\"https://colab.research.google.com/assets/colab-badge.svg\" alt=\"Open In Colab\"/></a>"
      ]
    },
    {
      "cell_type": "code",
      "metadata": {
        "id": "3uLzOGJMq8xn",
        "colab_type": "code",
        "colab": {}
      },
      "source": [
        "# Instala flask e o Ngrok\n",
        "\n",
        "!pip install flask\n",
        "!pip install flask_ngrok\n"
      ],
      "execution_count": null,
      "outputs": []
    },
    {
      "cell_type": "code",
      "metadata": {
        "id": "L7bPTUP2mJkg",
        "colab_type": "code",
        "colab": {}
      },
      "source": [
        "%%writefile flask/ex_templates.py\n",
        "from flask import Flask, render_template\n",
        "from flask_ngrok import run_with_ngrok\n",
        "from flask import request\n",
        "\n",
        "import matplotlib.pyplot as plt\n",
        "import numpy as np\n",
        "import io\n",
        "import base64\n",
        "\n",
        "app = Flask(__name__)\n",
        "run_with_ngrok(app) # Start ngrok when app is run\n",
        "\n",
        "@app.route (\"/\")\n",
        "def index():\n",
        "  lista = [\"Abacaxi\",\" Laranja\", \"Maça\", \"Manga\", \"Pera\"]\n",
        "  dicio = { 'Key1': 'Atacadista Brasil', 'Key2': 'Atacadista Forte', 'Key3': 'Manfroi', 'Key4': 'Angelone', 'Key5':'Super Norte'}\n",
        "  return render_template('ex_templates.html', **locals())\n",
        "\n",
        "def build_graph (meses , valores ):\n",
        "  img = io.BytesIO()\n",
        "  plt.plot(meses, valores)\n",
        "  plt.savefig(img, format='png')\n",
        "  img.seek( 0)\n",
        "  graph_url = base64.b64encode(img.getvalue()).decode()\n",
        "  plt.close()\n",
        "  return 'data:image/png;base64,{}' .format(graph_url)\n",
        "\n",
        "@app.route(\"/dolar\")\n",
        "def dolar(): \n",
        "  import matplotlib.pyplot\n",
        "  meses = ['jUN', 'JUL', 'AGO', 'SET', 'OUT', 'NOV', 'DEZ', 'JAN', 'FEV', 'MAR', 'ABR', 'MAI']\n",
        "  valores = [3.8316, 3.7643, 4.1379, 4.1638, 4.1638, 4.0035, 4.2234, 4.0301, 4.2689, 4.51981, 5.4264, 5.3354]\n",
        "  plt.xlabel(\"Anos de 2019 e 2020\")\n",
        "  plt.ylabel(\"valor de um dolar em real\")\n",
        "  graph1_url = build_graph(meses, valores);\n",
        "  return render_template('ex_matplotlib.html', graph1=graph1_url)\n",
        "\n",
        "@app.route(\"/cadastro\")\n",
        "@app.route('/login', methods=['GET', 'POST'])\n",
        "def login():\n",
        "  if request.method == 'POST':\n",
        "    r = request.form['nome']\n",
        "    s = projectpath = request.form['email']\n",
        "    senha = np.random.randint( 1000, size=8)\n",
        "    return render_template('formulario.html',**locals()) \n",
        "\n",
        "  else:\n",
        "    return render_template('cadastro.html')  \n",
        "\n",
        "if __name__ == \"__main__\":\n",
        "  app.debug = True\n",
        "  app.run()\n",
        "\n",
        "\n"
      ],
      "execution_count": null,
      "outputs": []
    },
    {
      "cell_type": "code",
      "metadata": {
        "id": "GqnK6kJhGCl_",
        "colab_type": "code",
        "colab": {}
      },
      "source": [
        "%%writefile flask/templates/ex_templates.html\n",
        "<!DOCTYPE html>\n",
        "<html>\n",
        "  <head>\n",
        "    <meta charset=\"utf-8\">\n",
        "    <meta name=\"viewport\" content=\"width=device-width, initial-scale=1\">\n",
        "    <title>Exercicios de python</title>\n",
        "    <LINK rel=\"stylesheet\" type=\"text/css\" href=\"style3.css\">\n",
        "  </head>\n",
        "  <body>\n",
        "  <center>\n",
        "    <div class=\"container\">\n",
        "        <div class=\"page-header\">\n",
        "            <h2>LISTA: 5 nomes de frutas</h2>\n",
        "        </div>\n",
        "        <table border=\"1px\" cellpadding=\"5px\" cellspacing=\"0\">\n",
        "            <thead class=\"thead-default\">\n",
        "                <tr><th> Frutas </th>  </tr> </thead> <tbody> <tr>\n",
        "                    <td>{{lista[0]}}</td> </tr>\n",
        "                <tr>\n",
        "                    <td>{{lista[1]}}</td>\n",
        "                </tr><tr>\n",
        "                    <td>{{lista[2]}}</td>\n",
        "                </tr><tr>\n",
        "                    <td>{{lista[3]}}</td>\n",
        "                </tr><tr>\n",
        "                    <td>{{lista[4]}}</td>\n",
        "                </tr></tbody>  </table> </div> </center>                 \n",
        "                <P></p>                \n",
        "                <center> \n",
        "                 <div class=\"container\">\n",
        "                   <div class=\"page-header\">\n",
        "                    <h2>DISCIONÁRIO: 5 nomes de supermercados</h2>\n",
        "                     </div>\n",
        "                      <table border=\"1px\" cellpadding=\"5px\" cellspacing=\"0\">\n",
        "                         <thead class=\"thead-default\">\n",
        "                          <tr> <th>Supermercados</th> </tr> </thead> <tbody> <tr>\n",
        "                 <td>{{dicio[ 'Key1']}}</td>\n",
        "                </tr><tr>\n",
        "                    <td>{{dicio[ 'Key2']}}</td>\n",
        "                </tr><tr>\n",
        "                    <td>{{dicio[ 'Key3']}}</td>\n",
        "                </tr><tr>\n",
        "                    <td>{{dicio[ 'Key4']}}</td>\n",
        "                </tr><tr>\n",
        "                    <td>{{dicio[ 'Key5']}}</td>\n",
        "                </tr></tbody>\n",
        "        </table>\n",
        "      </div>\n",
        "    </center>\n",
        "  </body>\n",
        "</html>"
      ],
      "execution_count": null,
      "outputs": []
    },
    {
      "cell_type": "code",
      "metadata": {
        "id": "RnNrNCNCDpv1",
        "colab_type": "code",
        "colab": {}
      },
      "source": [
        "%%writefile flask/templates/ex_matplotlib.html\n",
        "<!doctype html>\n",
        "<html>\n",
        "<title>últimos 12 meses dolar</title>\n",
        " <body>\n",
        "  <center>\n",
        "   <div><h2>Cotação do dolar ultimos 12 meses</h2></div>\n",
        "   <div><img src= '{{ graph1 }}' ></img></div>\n",
        "  </center> \n",
        " </body>\n",
        "</html>"
      ],
      "execution_count": null,
      "outputs": []
    },
    {
      "cell_type": "code",
      "metadata": {
        "id": "pOSUBtPRWkJN",
        "colab_type": "code",
        "colab": {}
      },
      "source": [
        "%%writefile flask/templates/login.html\n",
        "\n",
        "\n",
        "{% Extends 'base/base.html'%}\n",
        "{% block title %} {{ title }} {% endblock %}\n",
        "\n",
        "{% block content %}\n",
        "\n",
        "  {% from \"-macro.html\" import render_field %}\n",
        "\n",
        "  <form>\n",
        "    {{ render_field(form.username) }}\n",
        "  </form>\n",
        "\n",
        "\n",
        "{% endblock %}\n",
        "\n",
        "\n"
      ],
      "execution_count": null,
      "outputs": []
    },
    {
      "cell_type": "code",
      "metadata": {
        "id": "BvKSsBIYxxD9",
        "colab_type": "code",
        "colab": {}
      },
      "source": [
        "%%writefile flask/templates/cadastro.html\n",
        "<!DOCTYPE html>\n",
        "<html lang=\"pt\">\n",
        "<head>\n",
        "  <title>Formulário</title>\n",
        "</head>\n",
        "<body>\n",
        "<center>\n",
        "<h1>Informe os Dados </h1>\n",
        "<form action=\"{{ url_for('login') }}\" method=\"post\">\n",
        "  <div class=\"row form-input\" id=\"form\">\n",
        "    <div class=\"col-lg-4 col-sm-4 col-xs-12\">\n",
        "      <label for=\"nome\">Nome\n",
        "        <input type=\"name\" name=\"nome\" placeholder=\"Digite seu nome\" >\n",
        "      </label>\n",
        "    </div>\n",
        "    <div class=\"col-lg-4 col-sm-4 col-xs-12\">\n",
        "      <label for=\"email\">Email\n",
        "        <input type=\"email\" name=\"email\" placeholder=\"Digite seu email\" >\n",
        "      </label>\n",
        "    </div>    \n",
        "    <div class=\"col-lg-2\">\n",
        "      <input type=\"submit\" name=\"enviar\" value=\"Enviar\">\n",
        "    </div>\n",
        "  </div>\n",
        "</form>\n",
        "</center>\n",
        "</body>\n",
        "</html>"
      ],
      "execution_count": null,
      "outputs": []
    },
    {
      "cell_type": "code",
      "metadata": {
        "id": "JSZzRXQnx4eV",
        "colab_type": "code",
        "colab": {}
      },
      "source": [
        "%%writefile flask/templates/formulario.html\n",
        "<!doctype html>\n",
        "{% block title %} {% endblock %}\n",
        "{% block body %}\n",
        "<div class=\"block1\">\n",
        "{% if r %}\n",
        " <center>\n",
        "  <h1>Recebi seus dados: {{r}}!</h1>\n",
        "    <h3> Surgiro a senguinte senha aleatoria para seu email: {{s}} <p></p>\n",
        "        Senha aleatoria gerada por programa:  {{senha}}  \n",
        "    </h3>   \n",
        " </center>\n",
        "{% else %}\n",
        "<h2>Deu erro no recebimento dos seus dados</h2>\n",
        "{% endif %}\n",
        "</div>\n",
        "{% endblock %}\n"
      ],
      "execution_count": null,
      "outputs": []
    },
    {
      "cell_type": "code",
      "metadata": {
        "id": "gXMiErcg-g1v",
        "colab_type": "code",
        "colab": {}
      },
      "source": [
        "!python flask/ex_templates.py\n",
        "\n",
        "\n"
      ],
      "execution_count": null,
      "outputs": []
    }
  ]
}