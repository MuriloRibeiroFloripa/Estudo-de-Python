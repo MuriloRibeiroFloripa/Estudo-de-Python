{
  "nbformat": 4,
  "nbformat_minor": 0,
  "metadata": {
    "colab": {
      "name": "exercicio1_8.ipynb",
      "provenance": [],
      "collapsed_sections": [],
      "authorship_tag": "ABX9TyOZZ0Po+v7L6sQR6JbesAfA",
      "include_colab_link": true
    },
    "kernelspec": {
      "name": "python3",
      "display_name": "Python 3"
    }
  },
  "cells": [
    {
      "cell_type": "markdown",
      "metadata": {
        "id": "view-in-github",
        "colab_type": "text"
      },
      "source": [
        "<a href=\"https://colab.research.google.com/github/murilosenai/Estudo-de-Python/blob/master/exercicio1_8.ipynb\" target=\"_parent\"><img src=\"https://colab.research.google.com/assets/colab-badge.svg\" alt=\"Open In Colab\"/></a>"
      ]
    },
    {
      "cell_type": "code",
      "metadata": {
        "id": "wkwYtuYR4tj-",
        "colab_type": "code",
        "colab": {
          "base_uri": "https://localhost:8080/",
          "height": 153
        },
        "outputId": "835a8560-d1e1-4f63-c30d-06dafa090224"
      },
      "source": [
        "# Escreva um texto em uma variável e leia uma palavra do usuário.\n",
        "# Verifique e mostre se a palavra está ou não dentro do texto.\n",
        "import os\n",
        "\n",
        "txt = str(input(\"escreva um texto:\"))\n",
        "x = str(input(\"informe a palavra que deseja buscar\"))\n",
        "\n",
        "x1 = x in txt # x = True\n",
        "\n",
        "if x1==True:\n",
        "  print()\n",
        "  print(x1,\": Palavra encontrada\")\n",
        "  print(\"lembre-se palavras maiusculas diferem de minuscula na busca!\")\n",
        "if x1==False:\n",
        "  print()\n",
        "  print(x1,\": Palavra Não encontrada\")\n",
        "  print(\"lembre-se palavras maiusculas diferem de minuscula na busca!\")\n",
        "\n",
        "\n",
        "print()\n",
        "print()\n",
        "os.system(\"pause\")\n"
      ],
      "execution_count": null,
      "outputs": [
        {
          "output_type": "stream",
          "text": [
            "escreva um texto:casa grande\n",
            "informe a palavra que deseja buscarcasa\n",
            "\n",
            "True : Palavra encontrada\n",
            "lembre-se palavras maiusculas diferem de minuscula na busca!\n",
            "\n",
            "\n"
          ],
          "name": "stdout"
        },
        {
          "output_type": "execute_result",
          "data": {
            "text/plain": [
              "32512"
            ]
          },
          "metadata": {
            "tags": []
          },
          "execution_count": 25
        }
      ]
    }
  ]
}