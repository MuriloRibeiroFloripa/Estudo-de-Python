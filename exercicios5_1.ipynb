{
  "nbformat": 4,
  "nbformat_minor": 0,
  "metadata": {
    "colab": {
      "name": "exercicios5_1.ipynb",
      "provenance": [],
      "collapsed_sections": [],
      "authorship_tag": "ABX9TyPC6w7OLq8klExNj+ziaD1L",
      "include_colab_link": true
    },
    "kernelspec": {
      "name": "python3",
      "display_name": "Python 3"
    }
  },
  "cells": [
    {
      "cell_type": "markdown",
      "metadata": {
        "id": "view-in-github",
        "colab_type": "text"
      },
      "source": [
        "<a href=\"https://colab.research.google.com/github/murilosenai/Estudo-de-Python/blob/master/exercicios5_1.ipynb\" target=\"_parent\"><img src=\"https://colab.research.google.com/assets/colab-badge.svg\" alt=\"Open In Colab\"/></a>"
      ]
    },
    {
      "cell_type": "code",
      "metadata": {
        "id": "YLgs0tAR8im_",
        "colab_type": "code",
        "colab": {}
      },
      "source": [
        "# Para instalar no colab:\n",
        "!pip install -q dash\n",
        "!pip install -q dash_core_components\n",
        "!pip install -q dash_html_components\n",
        "!pip install -q dash_table\n"
      ],
      "execution_count": null,
      "outputs": []
    },
    {
      "cell_type": "code",
      "metadata": {
        "id": "6NYXjl7081YW",
        "colab_type": "code",
        "colab": {}
      },
      "source": [
        "# Instalar também o ngrok para rodar no background:\n",
        "\n",
        "!wget https://bin.equinox.io/c/4VmDzA7iaHb/ngrok-stable-linux-amd64.zip\n",
        "!unzip ngrok-stable-linux-amd64.zip #deixa disponivel o arquivo dentro do servidor do google"
      ],
      "execution_count": null,
      "outputs": []
    },
    {
      "cell_type": "code",
      "metadata": {
        "id": "3N0XnJDR82yT",
        "colab_type": "code",
        "colab": {}
      },
      "source": [
        "\n",
        "def start_ngrok():\n",
        "  get_ipython().system_raw( './ngrok http 8050 &' )   \n",
        "  !curl -s http://localhost:4040/api/tunnels | python3 -c \\\n",
        "     \"import sys, json; print(json.load(sys.stdin)['tunnels'][0]['public_url'])\" "
      ],
      "execution_count": null,
      "outputs": []
    },
    {
      "cell_type": "code",
      "metadata": {
        "id": "nzoWVIpU9AFp",
        "colab_type": "code",
        "colab": {}
      },
      "source": [
        "# estrutura basica\n",
        "import dash\n",
        "import dash_core_components as dcc\n",
        "import dash_html_components as html\n",
        "\n",
        "app = dash.Dash(__name__)\n",
        "app.layout = html.Div(children=[\n",
        "                                html.H1(children='Hello Dash')\n",
        "                                ]) \n",
        "if __name__ == '__main__':\n",
        "  app.run_server()"
      ],
      "execution_count": null,
      "outputs": []
    },
    {
      "cell_type": "code",
      "metadata": {
        "id": "ujVZMr0D9Bhp",
        "colab_type": "code",
        "colab": {}
      },
      "source": [
        "# Exemplo 1\n",
        "\n",
        "%%writefile my_app1.py\n",
        "\n",
        "import dash\n",
        "import dash_core_components as dcc\n",
        "import dash_html_components as html\n",
        "\n",
        "external_stylesheets = ['https://codepen.io/chriddyp/pen/bWLwgP.css']\n",
        "\n",
        "app = dash.Dash(__name__, external_stylesheets=external_stylesheets)\n",
        "app.layout = html.Div(children=[\n",
        "  html.H1(children='Hello Dash'),\n",
        "  html.Div(children='''\n",
        "  Dash: A web application framework for Python.\n",
        "  '''),\n",
        "  \n",
        "  dcc.Graph(\n",
        "      id='example-graph',\n",
        "      figure={\n",
        "          'data': [\n",
        "                   {'x': [1, 2, 3], 'y': [4, 1, 2], 'type': 'bar', 'name': 'SF'},\n",
        "                   {'x': [1, 2, 3], 'y': [2, 4, 5], 'type': 'bar', 'name': u'Montréal'},\n",
        "                   ],\n",
        "              'layout': {\n",
        "                  'title': 'Dash Data Visualization'\n",
        "                  }\n",
        "              }\n",
        "            )\n",
        "  ])\n",
        "if __name__ == '__main__':\n",
        "  app.run_server(debug=True)"
      ],
      "execution_count": null,
      "outputs": []
    },
    {
      "cell_type": "code",
      "metadata": {
        "id": "vLbmvvXB9J3S",
        "colab_type": "code",
        "colab": {}
      },
      "source": [
        "!python my_app1.py"
      ],
      "execution_count": null,
      "outputs": []
    },
    {
      "cell_type": "code",
      "metadata": {
        "id": "i0tEdqMc9Mnh",
        "colab_type": "code",
        "colab": {}
      },
      "source": [
        "# Exemplo 2\n",
        "\n",
        "%%writefile my_app2.py\n",
        "\n",
        "# -*- coding: utf-8 -*-\n",
        "\n",
        "import dash\n",
        "import dash_core_components as dcc\n",
        "import dash_html_components as html\n",
        "\n",
        "external_stylesheets = ['https://codepen.io/chriddyp/pen/bWLwgP.css']\n",
        "app = dash.Dash(__name__, external_stylesheets=external_stylesheets)\n",
        "\n",
        "colors = {\n",
        "    'background': '#111111',\n",
        "    'text': '#7FDBFF'\n",
        "}\n",
        "\n",
        "app.layout = html.Div(style={'backgroundColor': colors['background']}, children=[\n",
        "                                                                                 html.H1(\n",
        "                                                                                     children='Hello Dash',\n",
        "                                                                                     style={\n",
        "                                                                                         'textAlign': 'center',\n",
        "                                                                                         'color': colors['text']\n",
        "                                                                                         }                                                                                         \n",
        "),\n",
        "\n",
        "html.Div(children='Dash: A web application framework for Python.', style={\n",
        "    'textAlign': 'center',\n",
        "    'color': colors['text']\n",
        "}),\n",
        "\n",
        "dcc.Graph(\n",
        "    id='example-graph-2',\n",
        "    figure={\n",
        "        'data': [\n",
        "                 {'x': [1, 2, 3], 'y': [4, 1, 2], 'type': 'bar', 'name': 'SF'},\n",
        "                 {'x': [1, 2, 3], 'y': [2, 4, 5], 'type': 'bar', 'name': u'Montréal'},\n",
        "],\n",
        "\n",
        "'layout': {\n",
        "    'plot_bgcolor': colors['background'],\n",
        "    'paper_bgcolor': colors['background'],\n",
        "    'font': {\n",
        "        'color': colors['text']\n",
        "        }\n",
        "      }\n",
        "    }\n",
        "  )\n",
        "])\n",
        "\n",
        "if __name__ == '__main__':\n",
        "  app.run_server(debug=True)\n"
      ],
      "execution_count": null,
      "outputs": []
    },
    {
      "cell_type": "code",
      "metadata": {
        "id": "gf5e1NWb9T-s",
        "colab_type": "code",
        "colab": {}
      },
      "source": [
        "# para executar o Execução 2 temos que rodar ngrok\n",
        "# ● É necessário executar novamente os comandos novamente:\n",
        "\n",
        "def start_ngrok():\n",
        "  #executa o ngrok no background\n",
        "  get_ipython().system_raw('./ngrok http 8050 &')\n",
        "\n",
        "  #exibe o link do ngrok\n",
        "  !curl -s http://localhost:4040/api/tunnels | python3 -c \\\n",
        "      \"import sys, json; print(json.load(sys.stdin)['tunnels'][0]['public_url'])\"\n"
      ],
      "execution_count": null,
      "outputs": []
    },
    {
      "cell_type": "code",
      "metadata": {
        "id": "HW3hCXzb9YoD",
        "colab_type": "code",
        "colab": {}
      },
      "source": [
        "start_ngrok()\n",
        "!python my_app2.py"
      ],
      "execution_count": null,
      "outputs": []
    },
    {
      "cell_type": "code",
      "metadata": {
        "id": "6D3GqrzU9d1L",
        "colab_type": "code",
        "colab": {
          "base_uri": "https://localhost:8080/",
          "height": 34
        },
        "outputId": "291e5967-35fc-437b-fba4-cdc7a41fbce1"
      },
      "source": [
        "# exemplo 3\n",
        "\n",
        "%%writefile my_app3.py\n",
        "\n",
        "import dash\n",
        "import dash_core_components as dcc\n",
        "import dash_html_components as html\n",
        "import pandas as pd\n",
        "\n",
        "external_stylesheets = ['https://codepen.io/chriddyp/pen/bWLwgP.css']\n",
        "\n",
        "app = dash.Dash(__name__, external_stylesheets=external_stylesheets)\n",
        "\n",
        "df = pd.read_csv('https://gist.githubusercontent.com/chriddyp/5d1ea79569ed194d432e56108a04d188/raw/a9f9e8076b837d541398e999dcbac2b2826a81f8/gdp-life-exp-2007.csv')\n",
        "\n",
        "app.layout = html.Div([\n",
        "                       dcc.Graph(\n",
        "                           id='life-exp-vs-gdp',\n",
        "                           figure={\n",
        "                               'data': [\n",
        "                                        dict(\n",
        "                                            x=df[df['continent'] == i]['gdp per capita'],\n",
        "                                             y=df[df['continent'] == i]['life expectancy'],\n",
        "                                             text=df[df['continent'] == i]['country'],\n",
        "                                             mode='markers',\n",
        "                                             opacity=0.7,\n",
        "                                             marker={\n",
        "                                                 'size': 15,\n",
        "                                                 'line': {'width': 0.5, 'color': 'white'}\n",
        "                                                 },\n",
        "                                             name=i\n",
        "                                             ) for i in df.continent.unique()\n",
        "                                             ],\n",
        "                                   'layout': dict(\n",
        "                                       xaxis={'type': 'log', 'title': 'GDP Per Capita'},\n",
        "                                       yaxis={'title': 'Life Expectancy'},\n",
        "                                       margin={'l': 40, 'b': 40, 't': 10, 'r': 10},\n",
        "                                       legend={'x': 0, 'y': 1},\n",
        "                                       hovermode='closest'\n",
        "                                       )\n",
        "                                   }\n",
        "                                 )\n",
        "                       ])\n",
        "\n",
        "if __name__ == '__main__':\n",
        "  app.run_server(debug=True)"
      ],
      "execution_count": null,
      "outputs": [
        {
          "output_type": "stream",
          "text": [
            "Writing my_app3.py\n"
          ],
          "name": "stdout"
        }
      ]
    },
    {
      "cell_type": "code",
      "metadata": {
        "id": "G9PSkxE09iNt",
        "colab_type": "code",
        "colab": {}
      },
      "source": [
        "# executa o ngrok no background, chamando a função\n",
        "start_ngrok()\n",
        "\n",
        "!python my_app3.py"
      ],
      "execution_count": null,
      "outputs": []
    },
    {
      "cell_type": "code",
      "metadata": {
        "id": "LSM1tZrF9jCK",
        "colab_type": "code",
        "colab": {}
      },
      "source": [
        "# exemplo 4\n",
        "\n",
        "%%writefile my_app4.py\n",
        "\n",
        "# -*- coding: utf-8 -*-\n",
        "import dash\n",
        "import dash_core_components as dcc\n",
        "import dash_html_components as html\n",
        "\n",
        "external_stylesheets = [ 'https://codepen.io/chriddyp/pen/bWLwgP.css' ]\n",
        "app = dash.Dash(__name__, external_stylesheets=external_stylesheets)\n",
        "app.layout = html.Div([\n",
        "                       html.Label( 'Dropdown' ),\n",
        "                       dcc.Dropdown(\n",
        "                           options=[\n",
        "                                    { 'label': 'New York City' , 'value': 'NYC'},\n",
        "                                    { 'label': u'Montréal' , 'value': 'MTL'},\n",
        "                                    { 'label': 'San Francisco' , 'value': 'SF'}\n",
        "                                    ],\n",
        "                            value= 'MTL'\n",
        "                        ),\n",
        "                       \n",
        "                       html.Label( 'Multi-Select Dropdown' ),\n",
        "                       dcc.Dropdown(\n",
        "                           options=[\n",
        "                                    { 'label': 'New York City' , 'value': 'NYC'},\n",
        "                                    { 'label': u'Montréal' , 'value': 'MTL'},\n",
        "                                    { 'label': 'San Francisco' , 'value': 'SF'}\n",
        "                            ],\n",
        "                            \n",
        "                            value=[ 'MTL', 'SF'],\n",
        "                            multi= True\n",
        "                          ),\n",
        "                       \n",
        "                       html.Label( 'Radio Items' ),\n",
        "                       dcc.RadioItems(\n",
        "                           options=[\n",
        "                                    { 'label': 'New York City' , 'value': 'NYC'},\n",
        "                                    { 'label': u'Montréal' , 'value': 'MTL'},\n",
        "                                    { 'label': 'San Francisco' , 'value': 'SF'}\n",
        "                            ],\n",
        "                            \n",
        "                            value= 'MTL'\n",
        "                        ),\n",
        "                       \n",
        "                       html.Label( 'Checkboxes' ),\n",
        "                       dcc.Checklist(\n",
        "                           options=[\n",
        "                                    { 'label': 'New York City' , 'value': 'NYC'},\n",
        "                                    { 'label': u'Montréal' , 'value': 'MTL'},\n",
        "                                    { 'label': 'San Francisco' , 'value': 'SF'}\n",
        "                            ],\n",
        "                            \n",
        "                            value=[ 'MTL', 'SF']\n",
        "                        ),\n",
        "                       \n",
        "                       html.Label( 'Text Input' ),\n",
        "                       dcc.Input(value= 'MTL', type='text'),\n",
        "                       html.Label( 'Slider' ),\n",
        "                       dcc.Slider(\n",
        "                           min=0,\n",
        "                           max=9,\n",
        "                           marks={i: 'Label {}' .format(i) if i == 1 else str(i) for i in range(1, 6)},\n",
        "                           value= 5,\n",
        "                        ),\n",
        "], style={ 'columnCount' : 2})\n",
        "\n",
        "if __name__ == '__main__' :\n",
        "  app.run_server(debug= True)"
      ],
      "execution_count": null,
      "outputs": []
    },
    {
      "cell_type": "code",
      "metadata": {
        "id": "PmE_dNhX9sV8",
        "colab_type": "code",
        "colab": {
          "base_uri": "https://localhost:8080/",
          "height": 52
        },
        "outputId": "26b8eaf4-624a-490e-e4b9-d194c22e6727"
      },
      "source": [
        "# Para executar, inicie o ngrok e execute o script salvo:\n",
        "\n",
        "start_ngrok()\n",
        "!python my_app4.py"
      ],
      "execution_count": null,
      "outputs": [
        {
          "output_type": "stream",
          "text": [
            "https://e15a7bd5eed6.ngrok.io\n",
            "python3: can't open file 'my_app4.py': [Errno 2] No such file or directory\n"
          ],
          "name": "stdout"
        }
      ]
    },
    {
      "cell_type": "code",
      "metadata": {
        "id": "i-k6-g_L9tHH",
        "colab_type": "code",
        "colab": {}
      },
      "source": [
        "# Callbacks - Exemplo 5\n",
        "\n",
        "%%writefile my_app5.py\n",
        "\n",
        "import dash\n",
        "import dash_core_components as dcc\n",
        "import dash_html_components as html\n",
        "from dash.dependencies import Input, Output\n",
        "\n",
        "external_stylesheets = ['https://codepen.io/chriddyp/pen/bWLwgP.css']\n",
        "app = dash.Dash(__name__, external_stylesheets=external_stylesheets)\n",
        "app.layout = html.Div([\n",
        "                       dcc.Input(id='my-id', value='Escreva aqui:', type='text'),\n",
        "                       html.Div(id='my-div')\n",
        "])\n",
        "\n",
        "@app.callback(\n",
        "    Output(component_id='my-div', component_property='children'),\n",
        "    [Input(component_id='my-id', component_property='value')]\n",
        ")\n",
        "\n",
        "def update_output_div(input_value):\n",
        "  return 'You\\'ve entered \"{}\"'.format(input_value)\n",
        "\n",
        "if __name__ == '__main__':\n",
        "  app.run_server(debug=True)"
      ],
      "execution_count": null,
      "outputs": []
    },
    {
      "cell_type": "code",
      "metadata": {
        "id": "0xI3kqg59wzi",
        "colab_type": "code",
        "colab": {}
      },
      "source": [
        "start_ngrok()\n",
        "!python my_app5.py"
      ],
      "execution_count": null,
      "outputs": []
    },
    {
      "cell_type": "code",
      "metadata": {
        "id": "TJURuwkw93x1",
        "colab_type": "code",
        "colab": {}
      },
      "source": [
        "# Callbacks - Exemplo 6 \n",
        "\n",
        "%%writefile my_app6.py\n",
        "\n",
        "import dash\n",
        "import dash_core_components as dcc\n",
        "import dash_html_components as html\n",
        "from dash.dependencies import Input, Output\n",
        "\n",
        "external_stylesheets = ['https://codepen.io/chriddyp/pen/bWLwgP.css']\n",
        "app = dash.Dash(__name__, external_stylesheets=external_stylesheets)\n",
        "app.layout = html.Div([\n",
        "                       dcc.Input(\n",
        "                           id='num-multi',\n",
        "                           type='number',\n",
        "                           value=5\n",
        "                           ),\n",
        "                        html.Table([\n",
        "                                    html.Tr([html.Td(['x', html.Sup(2)]), html.Td(id='square')]),\n",
        "                                    html.Tr([html.Td(['x', html.Sup(3)]), html.Td(id='cube')]),\n",
        "                                    html.Tr([html.Td([2, html.Sup('x')]), html.Td(id='twos')]),\n",
        "                                    html.Tr([html.Td([3, html.Sup('x')]), html.Td(id='threes')]),\n",
        "                                    html.Tr([html.Td(['x', html.Sup('x')]), html.Td(id='x^x')]),\n",
        "                                    ]),\n",
        "                       ])\n",
        "\n",
        "@app.callback(\n",
        "    [Output('square', 'children'),\n",
        "     Output('cube', 'children'),\n",
        "     Output('twos', 'children'),\n",
        "     Output('threes', 'children'),\n",
        "     Output('x^x', 'children')],\n",
        "     [Input('num-multi', 'value')])\n",
        "\n",
        "def callback_a(x):\n",
        "  return x**2, x**3, 2**x, 3**x, x**x\n",
        "\n",
        "if __name__ == '__main__':\n",
        "  app.run_server(debug=True)"
      ],
      "execution_count": null,
      "outputs": []
    },
    {
      "cell_type": "code",
      "metadata": {
        "id": "767EByCl98pN",
        "colab_type": "code",
        "colab": {}
      },
      "source": [
        "start_ngrok()\n",
        "!python my_app6.py"
      ],
      "execution_count": null,
      "outputs": []
    },
    {
      "cell_type": "code",
      "metadata": {
        "id": "8cH_6V7g-AON",
        "colab_type": "code",
        "colab": {}
      },
      "source": [
        "# Integrando flask com dash\n",
        "\n",
        "%%writefile my_app7.py\n",
        "\n",
        "import flask\n",
        "import dash\n",
        "import dash_html_components as html\n",
        "\n",
        "server = flask.Flask(__name__)\n",
        "\n",
        "@server.route('/')\n",
        "def index():\n",
        "  return 'Hello Flask app'\n",
        "\n",
        "app = dash.Dash(\n",
        "    __name__,\n",
        "    server=server,\n",
        "    routes_pathname_prefix='/dash/'\n",
        ")\n",
        "      \n",
        "\n",
        "app.layout = html.Div(\"My Dash app\")\n",
        "\n",
        "if __name__ == '__main__':\n",
        "  app.run_server(debug=True)"
      ],
      "execution_count": null,
      "outputs": []
    },
    {
      "cell_type": "code",
      "metadata": {
        "id": "g0KKDO-H-GdO",
        "colab_type": "code",
        "colab": {}
      },
      "source": [
        "start_ngrok()\n",
        "!python my_app7.py"
      ],
      "execution_count": null,
      "outputs": []
    }
  ]
}