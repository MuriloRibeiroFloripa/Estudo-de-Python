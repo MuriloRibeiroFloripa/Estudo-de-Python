{
  "nbformat": 4,
  "nbformat_minor": 0,
  "metadata": {
    "colab": {
      "name": "exercicios5_2.ipynb",
      "provenance": [],
      "collapsed_sections": [],
      "authorship_tag": "ABX9TyPYkbP27uPpOJI2El5IzyeE",
      "include_colab_link": true
    },
    "kernelspec": {
      "name": "python3",
      "display_name": "Python 3"
    }
  },
  "cells": [
    {
      "cell_type": "markdown",
      "metadata": {
        "id": "view-in-github",
        "colab_type": "text"
      },
      "source": [
        "<a href=\"https://colab.research.google.com/github/murilosenai/Estudo-de-Python/blob/master/exercicios5_2.ipynb\" target=\"_parent\"><img src=\"https://colab.research.google.com/assets/colab-badge.svg\" alt=\"Open In Colab\"/></a>"
      ]
    },
    {
      "cell_type": "code",
      "metadata": {
        "id": "lLmn9R9PAZil",
        "colab_type": "code",
        "colab": {}
      },
      "source": [
        "# Para instalar no colab:\n",
        "!pip install -q dash\n",
        "!pip install -q dash_core_components\n",
        "!pip install -q dash_html_components\n",
        "!pip install -q dash_table"
      ],
      "execution_count": null,
      "outputs": []
    },
    {
      "cell_type": "code",
      "metadata": {
        "id": "uIOi75WaA1MD",
        "colab_type": "code",
        "colab": {}
      },
      "source": [
        "# Instalar também o ngrok para rodar no background:\n",
        "\n",
        "!wget https://bin.equinox.io/c/4VmDzA7iaHb/ngrok-stable-linux-amd64.zip\n",
        "!unzip ngrok-stable-linux-amd64.zip "
      ],
      "execution_count": null,
      "outputs": []
    },
    {
      "cell_type": "code",
      "metadata": {
        "id": "M4yQOHZ6BCSF",
        "colab_type": "code",
        "colab": {}
      },
      "source": [
        "def start_ngrok():\n",
        "  get_ipython().system_raw( './ngrok http 8050 &' ) \n",
        "  \n",
        "  !curl -s http://localhost:4040/api/tunnels | python3 -c \\\n",
        "  \"import sys, json; print(json.load(sys.stdin)['tunnels'][0]['public_url'])\" \n"
      ],
      "execution_count": null,
      "outputs": []
    },
    {
      "cell_type": "code",
      "metadata": {
        "id": "9dbl8aHPVgkn",
        "colab_type": "code",
        "colab": {
          "base_uri": "https://localhost:8080/",
          "height": 33
        },
        "outputId": "d8695c06-a2de-4abd-b7f2-aa1966e6d73e"
      },
      "source": [
        "%%writefile dash/main.py\n",
        "\n",
        "import flask\n",
        "import dash\n",
        "import dash_core_components as dcc\n",
        "import dash_html_components as html\n",
        "from flask import Flask, render_template\n",
        "from dash.dependencies import Input, Output\n",
        "import random\n",
        "\n",
        "\n",
        "server = flask.Flask(__name__)\n",
        "\n",
        "@server.route('/')\n",
        "def index():\n",
        "  return render_template('index.html')\n",
        "\n",
        "external_stylesheets = ['https://codepen.io/chriddyp/pen/bWLwgP.css']\n",
        "\n",
        "app = dash.Dash(__name__, external_stylesheets=external_stylesheets)\n",
        "app = dash.Dash(\n",
        "    __name__,\n",
        "    server=server,\n",
        "    routes_pathname_prefix='/grafico/'\n",
        ")\n",
        "app.layout = html.Div(children=[\n",
        "  html.H1(children='Ola Dash'),\n",
        "  html.Div(children='''  \n",
        "  Dash: Uma estrutura de aplicativos da web para Python.\n",
        "  '''),\n",
        "\n",
        "  dcc.Graph(\n",
        "      id='example',\n",
        "      figure={\n",
        "          'data': [\n",
        "                   {'x': [1, 2, 3, 4, 5], 'y': [9, 6, 2, 1, 5], 'type': 'line', 'name': 'Boats'},\n",
        "                   {'x': [1, 2, 3, 4, 5], 'y': [8, 7, 2, 7, 3], 'type': 'bar', 'name': 'Cars'},\n",
        "                   ],\n",
        "              'layout': {\n",
        "                  'title': 'Basic Dash Example'\n",
        "                  }\n",
        "              }\n",
        "            )\n",
        "  \n",
        "  ])\n",
        "\n",
        "def update_output_div(input_value):\n",
        "  return 'You\\'ve entered \"{}\"'.format(input_value)\n",
        "\n",
        "\n",
        "app = dash.Dash(\n",
        "    __name__,\n",
        "    server=server,\n",
        "    routes_pathname_prefix='/main/'\n",
        ")\n",
        "\n",
        "app.layout = html.Div([\n",
        "    # represents the URL bar, doesn't render anything\n",
        "    dcc.Location(id='url', refresh=False),\n",
        "\n",
        "    dcc.Link('Navegar para \"/\"', href='/'),\n",
        "    html.Br(),\n",
        "    dcc.Link('Navegar para \"/pagina-2\"', href='/pagina-2'),\n",
        "    html.Br(),\n",
        "    dcc.Link('Navegar para \"/pagina-3\"', href='/pagina-3'),\n",
        "    html.Br(),\n",
        "    dcc.Link('Navegar para \"/pagina-4\"', href='/pagina-4'),\n",
        "    html.Br(),\n",
        "    dcc.Link('Navegar para \"/pagina-5\"', href='/pagina-5'),\n",
        "\n",
        "    # content will be rendered in this element\n",
        "    html.Div(id='page-content')\n",
        "])\n",
        "\n",
        "\n",
        "@app.callback(dash.dependencies.Output('page-content', 'children'),\n",
        "              [dash.dependencies.Input('url', 'pathname')])\n",
        "def display_page(pathname):\n",
        "    return html.Div([\n",
        "        html.H3('Você está na página {}'.format(pathname))\n",
        "    ])\n",
        "\n",
        "\n",
        "if __name__ == '__main__':\n",
        "  app.run_server(debug=True)\n",
        "\n"
      ],
      "execution_count": null,
      "outputs": [
        {
          "output_type": "stream",
          "text": [
            "Writing dash/main.py\n"
          ],
          "name": "stdout"
        }
      ]
    },
    {
      "cell_type": "code",
      "metadata": {
        "id": "406r6Zfmu_86",
        "colab_type": "code",
        "colab": {}
      },
      "source": [
        "start_ngrok()\n",
        "!python dash/main.py"
      ],
      "execution_count": null,
      "outputs": []
    },
    {
      "cell_type": "code",
      "metadata": {
        "id": "-dPTf0UbXb1f",
        "colab_type": "code",
        "colab": {
          "base_uri": "https://localhost:8080/",
          "height": 33
        },
        "outputId": "a631bf4a-fbf6-4e23-bde8-e3a372abece0"
      },
      "source": [
        "%%writefile dash/templates/index.html\n",
        "\n",
        "<!DOCTYPE html>\n",
        "<html>\n",
        "<head>\n",
        "    <meta charset=\"UTF-8\"/>\n",
        "    <title>dash com flash </title>\n",
        "    <style>\n",
        "    a{\n",
        "        text-decoration: none;\n",
        "        background-color: yellow;\n",
        "        color: red;\n",
        "        border: 3px solid blue\n",
        "        padding:3px 5px;\n",
        "    }\n",
        "    </style>\n",
        "</head>\n",
        "<body>\n",
        "  <center>\n",
        "    <ul>\n",
        "    <li><h1> Seja Bem Vindo! </h1></li>\n",
        "    <li><h2> <a href=\"grafico\"> Clique para Ver o grafico </a></h2></li>\n",
        "    <li><h2> <a href=\"main\"> Clique para ver Callback    </a></h2></li>\n",
        "  </center> \n",
        "</ul>\n",
        "</body>\n",
        "</html>"
      ],
      "execution_count": null,
      "outputs": [
        {
          "output_type": "stream",
          "text": [
            "Writing dash/templates/index.html\n"
          ],
          "name": "stdout"
        }
      ]
    },
    {
      "cell_type": "code",
      "metadata": {
        "id": "WrXQxwNvVbfh",
        "colab_type": "code",
        "colab": {}
      },
      "source": [
        "start_ngrok()\n",
        "!python dash/main.py"
      ],
      "execution_count": null,
      "outputs": []
    }
  ]
}