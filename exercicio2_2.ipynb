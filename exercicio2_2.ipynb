{
  "nbformat": 4,
  "nbformat_minor": 0,
  "metadata": {
    "colab": {
      "name": "exercicio2_2.ipynb",
      "provenance": [],
      "collapsed_sections": [],
      "include_colab_link": true
    },
    "kernelspec": {
      "name": "python3",
      "display_name": "Python 3"
    }
  },
  "cells": [
    {
      "cell_type": "markdown",
      "metadata": {
        "id": "view-in-github",
        "colab_type": "text"
      },
      "source": [
        "<a href=\"https://colab.research.google.com/github/murilosenai/Estudo-de-Python/blob/master/exercicio2_2.ipynb\" target=\"_parent\"><img src=\"https://colab.research.google.com/assets/colab-badge.svg\" alt=\"Open In Colab\"/></a>"
      ]
    },
    {
      "cell_type": "code",
      "metadata": {
        "id": "ENu31PQepEp1",
        "colab_type": "code",
        "colab": {
          "base_uri": "https://localhost:8080/",
          "height": 119
        },
        "outputId": "1c4e6ca9-33da-4763-a0c4-8a66ed30f6fd"
      },
      "source": [
        "# Tenha uma função que retorne o item (String) de uma lista global com base no índice. Informe\n",
        "# também se foi ou não encontrado.\n",
        "import os\n",
        "lista = ['casa', 'martelo', 'ola', \"String\",'chuveiro']\n",
        "print (\"Lista = \",lista)\n",
        "valor = 'String'\n",
        "pos = -1\n",
        "for i in range(len(lista)-1,-1,-1):\n",
        "  resultado = valor in lista \n",
        "  if lista[i] == valor:\n",
        "    pos = i\n",
        "    print(pos,\" foi o índice do item encontrado\")\n",
        "if resultado == False:\n",
        "  print(\"não foi encontrado o item\")\n",
        "\n",
        "print()   \n",
        "print()\n",
        "print()\n",
        "os.system(\"pause\")\n",
        "\n",
        "  \n"
      ],
      "execution_count": null,
      "outputs": [
        {
          "output_type": "stream",
          "text": [
            "Lista =  ['casa', 'martelo', 'ola', 'String', 'chuveiro']\n",
            "3  foi o índice do item encontrado\n",
            "\n",
            "\n",
            "\n"
          ],
          "name": "stdout"
        },
        {
          "output_type": "execute_result",
          "data": {
            "text/plain": [
              "32512"
            ]
          },
          "metadata": {
            "tags": []
          },
          "execution_count": 40
        }
      ]
    },
    {
      "cell_type": "code",
      "metadata": {
        "colab_type": "code",
        "id": "3S0sesZXbXdN",
        "colab": {
          "base_uri": "https://localhost:8080/",
          "height": 136
        },
        "outputId": "83b2060b-fabb-4f57-a36c-7fa40cfb4a8f"
      },
      "source": [
        "# BTenha uma função que retorne o item (String) de uma lista global com base no índice. Informe\n",
        "# também se foi ou não encontrado.\n",
        "import os\n",
        "\n",
        "lista = ['casa', 'martelo', 'ola']\n",
        "print (\"Lista = \",lista)\n",
        "valor = str(input(\"digite o valor que deseja busca na lista: \"))\n",
        "pos = -1\n",
        "for i in range(len(lista)-1,-1,-1):\n",
        "  resultado = valor in lista \n",
        "  if lista[i] == valor:\n",
        "    pos = i\n",
        "    print(pos,\" foi o índice do item encontrado\")\n",
        "if resultado == False:\n",
        "  print(\"não foi encontrado o item\")\n",
        "\n",
        "print()   \n",
        "print()\n",
        "print()\n",
        "os.system(\"pause\")\n",
        "\n",
        "  \n",
        "\n",
        "\n",
        "    \n",
        "    \n",
        "    \n",
        "\n",
        "    \n",
        "\n"
      ],
      "execution_count": null,
      "outputs": [
        {
          "output_type": "stream",
          "text": [
            "Lista =  ['casa', 'martelo', 'ola']\n",
            "digite o valor que deseja busca na lista: ola\n",
            "2  foi o índice do item encontrado\n",
            "\n",
            "\n",
            "\n"
          ],
          "name": "stdout"
        },
        {
          "output_type": "execute_result",
          "data": {
            "text/plain": [
              "32512"
            ]
          },
          "metadata": {
            "tags": []
          },
          "execution_count": 4
        }
      ]
    },
    {
      "cell_type": "code",
      "metadata": {
        "colab_type": "code",
        "id": "jMjfr_ZLbUT1",
        "colab": {
          "base_uri": "https://localhost:8080/",
          "height": 136
        },
        "outputId": "83b2060b-fabb-4f57-a36c-7fa40cfb4a8f"
      },
      "source": [
        "# BTenha uma função que retorne o item (String) de uma lista global com base no índice. Informe\n",
        "# também se foi ou não encontrado.\n",
        "import os\n",
        "\n",
        "lista = ['casa', 'martelo', 'ola']\n",
        "print (\"Lista = \",lista)\n",
        "valor = str(input(\"digite o valor que deseja busca na lista: \"))\n",
        "pos = -1\n",
        "for i in range(len(lista)-1,-1,-1):\n",
        "  resultado = valor in lista \n",
        "  if lista[i] == valor:\n",
        "    pos = i\n",
        "    print(pos,\" foi o índice do item encontrado\")\n",
        "if resultado == False:\n",
        "  print(\"não foi encontrado o item\")\n",
        "\n",
        "print()   \n",
        "print()\n",
        "print()\n",
        "os.system(\"pause\")\n",
        "\n",
        "  \n",
        "\n",
        "\n",
        "    \n",
        "    \n",
        "    \n",
        "\n",
        "    \n",
        "\n"
      ],
      "execution_count": null,
      "outputs": [
        {
          "output_type": "stream",
          "text": [
            "Lista =  ['casa', 'martelo', 'ola']\n",
            "digite o valor que deseja busca na lista: ola\n",
            "2  foi o índice do item encontrado\n",
            "\n",
            "\n",
            "\n"
          ],
          "name": "stdout"
        },
        {
          "output_type": "execute_result",
          "data": {
            "text/plain": [
              "32512"
            ]
          },
          "metadata": {
            "tags": []
          },
          "execution_count": 4
        }
      ]
    },
    {
      "cell_type": "code",
      "metadata": {
        "id": "5NUw_3d0Mj0X",
        "colab_type": "code",
        "colab": {
          "base_uri": "https://localhost:8080/",
          "height": 136
        },
        "outputId": "83b2060b-fabb-4f57-a36c-7fa40cfb4a8f"
      },
      "source": [
        "# BTenha uma função que retorne o item (String) de uma lista global com base no índice. Informe\n",
        "# também se foi ou não encontrado.\n",
        "import os\n",
        "\n",
        "lista = ['casa', 'martelo', 'ola']\n",
        "print (\"Lista = \",lista)\n",
        "valor = str(input(\"digite o valor que deseja busca na lista: \"))\n",
        "pos = -1\n",
        "for i in range(len(lista)-1,-1,-1):\n",
        "  resultado = valor in lista \n",
        "  if lista[i] == valor:\n",
        "    pos = i\n",
        "    print(pos,\" foi o índice do item encontrado\")\n",
        "if resultado == False:\n",
        "  print(\"não foi encontrado o item\")\n",
        "\n",
        "print()   \n",
        "print()\n",
        "print()\n",
        "os.system(\"pause\")\n",
        "\n",
        "  \n",
        "\n",
        "\n",
        "    \n",
        "    \n",
        "    \n",
        "\n",
        "    \n",
        "\n"
      ],
      "execution_count": null,
      "outputs": [
        {
          "output_type": "stream",
          "text": [
            "Lista =  ['casa', 'martelo', 'ola']\n",
            "digite o valor que deseja busca na lista: ola\n",
            "2  foi o índice do item encontrado\n",
            "\n",
            "\n",
            "\n"
          ],
          "name": "stdout"
        },
        {
          "output_type": "execute_result",
          "data": {
            "text/plain": [
              "32512"
            ]
          },
          "metadata": {
            "tags": []
          },
          "execution_count": 4
        }
      ]
    }
  ]
}