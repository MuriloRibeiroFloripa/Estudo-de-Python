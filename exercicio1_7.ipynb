{
  "nbformat": 4,
  "nbformat_minor": 0,
  "metadata": {
    "colab": {
      "name": "exercicio1_7.ipynb",
      "provenance": [],
      "collapsed_sections": [],
      "authorship_tag": "ABX9TyNH8Quhi3OzIZMZbY4Crpci",
      "include_colab_link": true
    },
    "kernelspec": {
      "name": "python3",
      "display_name": "Python 3"
    }
  },
  "cells": [
    {
      "cell_type": "markdown",
      "metadata": {
        "id": "view-in-github",
        "colab_type": "text"
      },
      "source": [
        "<a href=\"https://colab.research.google.com/github/murilosenai/Estudo-de-Python/blob/master/exercicio1_7.ipynb\" target=\"_parent\"><img src=\"https://colab.research.google.com/assets/colab-badge.svg\" alt=\"Open In Colab\"/></a>"
      ]
    },
    {
      "cell_type": "code",
      "metadata": {
        "id": "JMpdH5Ms35NX",
        "colab_type": "code",
        "colab": {}
      },
      "source": [
        "# Apresente um menu com 3 opções (Ex.: a-Puro Malte, b-Pilsen, c-Lager),\n",
        "# na sequência leia a opção do usuário e exiba uma frase sobre a opção\n",
        "# selecionada.\n",
        "import os\n",
        "\n",
        "while 1:\n",
        "  print(\"==================================\")\n",
        "  print(\"      Escolha uma das opções      \")\n",
        "  print(\"==================================\")\n",
        "  print(\"[1] - Puro Malte \")\n",
        "  print(\"[2] - Pilsen \")\n",
        "  print(\"[3] - Lager \")\n",
        "  print(\"[4] - Sair \")\n",
        "  print(\" \")\n",
        "  res = int(input(\"Opcao: \"))\n",
        "\n",
        "  if res == 1:\n",
        "    print(\"O malte não é um produto que já nasce pronto. O malte é a alma da cerveja\")\n",
        "    print(\"A função do malte é fornecer nutrientes e açúcares que funcionarão como alimento ao fermento (as nossas amiguinhas, leveduras). \")\n",
        "    print (\"Para quem se preocupa com os benefícios à saúde, vale saber que o malte ajuda a regular a pressão arterial, mantém a saúde dos músculos e ainda pode prevenir diabetes.\")\n",
        "  elif res == 2:\n",
        "      print(\"Antes de mais nada, é preciso esclarecer que “Pilsen” é uma espécie do gênero “Lager”\")\n",
        "      print(\"Sendo assim, toda cerveja Pilsen é, necessariamente, Lager, mas nem toda Lager é Pilsen\")\n",
        "  elif res == 3:\n",
        "      print(\"O nome Lager vem do alemão, que significa “guardada”, em referência ao período em que a bebida fica em processo de maturação.\")\n",
        "      print(\"Chamadas cerveja Lager americas, podemos dizer, portanto, apesar de todas as diferenças, as duas são irmãs PILSE e LANGERS.\")\n",
        "  elif res == 4:\n",
        "    break;\n",
        "  else:\n",
        "      print(\"ERRO: A opção não se encontra defenida ! tente novamente!\")\n",
        "  \n",
        "  os.system(\"pause\")\n",
        "          \n",
        "          "
      ],
      "execution_count": null,
      "outputs": []
    }
  ]
}