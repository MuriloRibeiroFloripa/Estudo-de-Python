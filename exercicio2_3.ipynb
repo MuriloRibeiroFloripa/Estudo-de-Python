{
  "nbformat": 4,
  "nbformat_minor": 0,
  "metadata": {
    "colab": {
      "name": "exercicio2_3.ipynb",
      "provenance": [],
      "collapsed_sections": [],
      "authorship_tag": "ABX9TyN03+vrtf8XLhHMvpQSOtn+",
      "include_colab_link": true
    },
    "kernelspec": {
      "name": "python3",
      "display_name": "Python 3"
    }
  },
  "cells": [
    {
      "cell_type": "markdown",
      "metadata": {
        "id": "view-in-github",
        "colab_type": "text"
      },
      "source": [
        "<a href=\"https://colab.research.google.com/github/murilosenai/Estudo-de-Python/blob/master/exercicio2_3.ipynb\" target=\"_parent\"><img src=\"https://colab.research.google.com/assets/colab-badge.svg\" alt=\"Open In Colab\"/></a>"
      ]
    },
    {
      "cell_type": "code",
      "metadata": {
        "id": "l3t1RUNxmYN2",
        "colab_type": "code",
        "colab": {}
      },
      "source": [
        "# Leia um número do usuário e faça uma função que gere um número aleatório entre 0 e 9 e\n",
        "# compare com o número lido (passar o número na chamada da função). Fique lendo um número até\n",
        "# acertar o mesmo número sorteado. Utilize o módulo random.\n",
        "import random\n",
        "import os\n",
        "\n",
        "while True:\n",
        "  num = int(random.randint(0, 9))\n",
        "  valor = int(input(\"Advinhe o valor de 0 a 9, que Estou pensando! \"))\n",
        "  numero = num\n",
        "\n",
        "  if valor == numero:\n",
        "    print('===================================================')\n",
        "    print(\"   O número que eu estava pensando era = \", numero)\n",
        "    print('   Você adivinhou ótimo Palpites!')\n",
        "    print('===================================================')\n",
        "    break\n",
        "\n",
        "  if valor != numero:\n",
        "    numero = str(numero)\n",
        "    print('Não Acertou!. O número que eu estava pensando era = ', numero)\n",
        "\n",
        "print()  \n",
        "print()\n",
        "print()\n",
        "os.system(\"pause\")\n"
      ],
      "execution_count": null,
      "outputs": []
    }
  ]
}