{
  "nbformat": 4,
  "nbformat_minor": 0,
  "metadata": {
    "colab": {
      "name": "exercicio1_9.ipynb",
      "provenance": [],
      "collapsed_sections": [],
      "authorship_tag": "ABX9TyOp4+i89W9gCXbPi5yRQPVb",
      "include_colab_link": true
    },
    "kernelspec": {
      "name": "python3",
      "display_name": "Python 3"
    }
  },
  "cells": [
    {
      "cell_type": "markdown",
      "metadata": {
        "id": "view-in-github",
        "colab_type": "text"
      },
      "source": [
        "<a href=\"https://colab.research.google.com/github/murilosenai/Estudo-de-Python/blob/master/exercicio1_9.ipynb\" target=\"_parent\"><img src=\"https://colab.research.google.com/assets/colab-badge.svg\" alt=\"Open In Colab\"/></a>"
      ]
    },
    {
      "cell_type": "code",
      "metadata": {
        "id": "7gvTY-O8PJo-",
        "colab_type": "code",
        "colab": {
          "base_uri": "https://localhost:8080/",
          "height": 136
        },
        "outputId": "21223b0a-23bb-4cae-b71e-2ce8cd5d8647"
      },
      "source": [
        "# Leia 2 notas de um aluno, verifique se as notas são válidas e exiba na tela\n",
        "# a média destas notas. Nota válida = entre 0.0 e 10.0. Caso não seja, informe\n",
        "# e termine o programa.\n",
        "import os\n",
        "\n",
        "n1 = float(input(\"Informe nota N1: \"))\n",
        "\n",
        "if n1 > 10:\n",
        "  print(\"Informe uma nota entre [0.0] e [10] para N1: \")\n",
        "  n1 = float (input(\"Informe nota N1: \"))\n",
        "if n1 < 0:\n",
        "  print(\"Informe uma nota entre [0.0] e [10] para N1: \")\n",
        "  n1 = float (input(\"Informe nota N1: \"))\n",
        "\n",
        "n2 = float(input(\"Informe nota N2: \"))\n",
        "if n2 > 10 :\n",
        "  print(\"Informe uma nota entre [0.0] e [10] para N2: \")\n",
        "  n2 = float (input(\"Informe nota N2: \"))  \n",
        "  if n2 < 0:\n",
        "    print(\"Informe uma nota entre [0.0] e [10] para N2: \")\n",
        "    n2 = float (input(\"Informe nota N2: \"))\n",
        "\n",
        "media=(n1+n2)/2\n",
        "print(\"--------------------------\")\n",
        "print(\"Media da nota: \", media)\n",
        "print(\"--------------------------\")\n",
        "\n",
        "print(\"\")\n",
        "print(\"\")\n",
        "os.system (\"pause\");\n"
      ],
      "execution_count": null,
      "outputs": [
        {
          "output_type": "stream",
          "text": [
            "Informe nota N1: 8\n",
            "Informe nota N2: 2\n",
            "--------------------------\n",
            "Media da nota:  5.0\n",
            "--------------------------\n",
            "\n",
            "\n"
          ],
          "name": "stdout"
        }
      ]
    }
  ]
}