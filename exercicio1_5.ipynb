{
  "nbformat": 4,
  "nbformat_minor": 0,
  "metadata": {
    "colab": {
      "name": "exercicio1_5.ipynb",
      "provenance": [],
      "collapsed_sections": [],
      "authorship_tag": "ABX9TyNUUgkc8CgJwoGshyjWmau9",
      "include_colab_link": true
    },
    "kernelspec": {
      "name": "python3",
      "display_name": "Python 3"
    }
  },
  "cells": [
    {
      "cell_type": "markdown",
      "metadata": {
        "id": "view-in-github",
        "colab_type": "text"
      },
      "source": [
        "<a href=\"https://colab.research.google.com/github/murilosenai/Estudo-de-Python/blob/master/exercicio1_5.ipynb\" target=\"_parent\"><img src=\"https://colab.research.google.com/assets/colab-badge.svg\" alt=\"Open In Colab\"/></a>"
      ]
    },
    {
      "cell_type": "code",
      "metadata": {
        "id": "4b9yx7pBgAg6",
        "colab_type": "code",
        "colab": {}
      },
      "source": [
        "# Leia 3 números e imprima do maior para o menor.\n",
        "import os\n",
        "a = float (input('Digite o 1° numero: '))\n",
        "b = float (input('Digite o 2° numero: '))\n",
        "c = float (input('Digite o 3° numero: '))\n",
        "\n",
        "\n",
        "if a > b :         #a<b\n",
        "  if b > c :       #a>b>c\n",
        "    print (a)\n",
        "    print (b)\n",
        "    print (c)\n",
        "  else:            #a>b,c>=b\n",
        "    if a > c :     #a>c>=b\n",
        "      print (a)\n",
        "      print (c)\n",
        "      print (b)\n",
        "    else:          #c>=a>b\n",
        "      print (c)\n",
        "      print (a)\n",
        "      print (b)\n",
        "else:              #b>=a\n",
        "  if b > c :       #b>=a,b>c\n",
        "    if a > c:      #b>=a>c\n",
        "      print (b)\n",
        "      print (a)\n",
        "      print (c) \n",
        "    else:          #b>c>=a\n",
        "      print (b)\n",
        "      print (c)\n",
        "      print (a) \n",
        "  else:            #c>=b>=a\n",
        "    print (c)\n",
        "    print (b)\n",
        "    print (a)\n",
        "print()\n",
        "print()\n",
        "print()\n",
        "os.system(\"pause\")\n",
        "  \n",
        "\n",
        "\n",
        "  \n",
        "\n",
        " \n",
        "\n",
        "  "
      ],
      "execution_count": null,
      "outputs": []
    }
  ]
}