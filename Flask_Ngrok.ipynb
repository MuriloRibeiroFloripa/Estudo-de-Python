{
  "nbformat": 4,
  "nbformat_minor": 0,
  "metadata": {
    "colab": {
      "name": "Flask_Ngrok.ipynb",
      "provenance": [],
      "collapsed_sections": [],
      "authorship_tag": "ABX9TyPyqWQckwtNZumIN/uuI75h",
      "include_colab_link": true
    },
    "kernelspec": {
      "name": "python3",
      "display_name": "Python 3"
    }
  },
  "cells": [
    {
      "cell_type": "markdown",
      "metadata": {
        "id": "view-in-github",
        "colab_type": "text"
      },
      "source": [
        "<a href=\"https://colab.research.google.com/github/murilosenai/Estudo-de-Python/blob/master/Flask_Ngrok.ipynb\" target=\"_parent\"><img src=\"https://colab.research.google.com/assets/colab-badge.svg\" alt=\"Open In Colab\"/></a>"
      ]
    },
    {
      "cell_type": "code",
      "metadata": {
        "id": "u1T4a7wzhgU4",
        "colab_type": "code",
        "colab": {}
      },
      "source": [
        "# Instala flask e o Ngrok\n",
        "!pip install flask\n",
        "!pip install flask_ngrok\n",
        "\n",
        "\n"
      ],
      "execution_count": null,
      "outputs": []
    },
    {
      "cell_type": "code",
      "metadata": {
        "id": "g0IkJFrDkPbh",
        "colab_type": "code",
        "colab": {}
      },
      "source": [
        "#Servidor com flask e Ngrok\n",
        "\n",
        "%%writefile flask/ex_templates.py\n",
        "from flask import Flask\n",
        "from flask_ngrok import run_with_ngrok\n",
        "\n",
        "app = Flask(__name__)\n",
        "run_with_ngrok(app) # Start ngrok when app is run\n",
        "\n",
        "\n",
        "@app.route(\"/\") #rota principal raiz\n",
        "def hello():\n",
        " return \"Servidor web com flask e ngrok!\"\n",
        "if __name__ == '__main__':\n",
        " app.run()"
      ],
      "execution_count": null,
      "outputs": []
    },
    {
      "cell_type": "code",
      "metadata": {
        "id": "L7bPTUP2mJkg",
        "colab_type": "code",
        "colab": {}
      },
      "source": [
        "# Exemplos com Rotas\n",
        "from flask import Flask\n",
        "from flask_ngrok import run_with_ngrok\n",
        "\n",
        "app = Flask(__name__)\n",
        "run_with_ngrok(app) # Start ngrok when app is run\n",
        "\n",
        "@app.route(\"/\")\n",
        "def index():\n",
        " return \"Index!\"\n",
        "\n",
        "@app.route(\"/dolar\")\n",
        "def dolar():\n",
        " return \"Hello World!\"\n",
        "\n",
        "@app.route(\"/rota1\")\n",
        "def rota1():\n",
        " return \"Rota 1\"\n",
        " \n",
        "@app.route(\"/rota1/<string:name>/\" )\n",
        "def getVar(name):\n",
        " return name\n",
        "\n",
        "if __name__ == '__main__':\n",
        " app.run()"
      ],
      "execution_count": null,
      "outputs": []
    },
    {
      "cell_type": "code",
      "metadata": {
        "id": "ihDZqZs7uWlp",
        "colab_type": "code",
        "colab": {}
      },
      "source": [
        "# salvando o script dois rotas.py\n",
        "\n",
        "%%writefile 2_rotas.py\n",
        "\n",
        "from flask import Flask\n",
        "from flask_ngrok import run_with_ngrok\n",
        "import dash_core_components as dcc\n",
        "import dash_html_components as html\n",
        "\n",
        "external_stylesheets = ['https://codepen.io/chriddyp/pen/bWLwgP.css']\n",
        "app = dash.Dash(__name__, external_stylesheets=external_stylesheets)\n",
        "\n",
        "app = Flask(__name__)\n",
        "run_with_ngrok(app) # Start ngrok when app is run\n",
        "\n",
        "@app.route(\"/\")\n",
        "def index():\n",
        " return \"Index!\"\n",
        "\n",
        "@app.route(\"/hello\")\n",
        "def hello():\n",
        " return \"Hello World!\"\n",
        "\n",
        "@app.route(\"/rota1\")\n",
        "def rota1():\n",
        " return \"Rota 1\"\n",
        " \n",
        "@app.route(\"/rota1/<string:name>/\" )\n",
        "def getVar(name):\n",
        " return name\n",
        "\n",
        "if __name__ == '__main__':\n",
        " app.run()\n"
      ],
      "execution_count": null,
      "outputs": []
    },
    {
      "cell_type": "code",
      "metadata": {
        "id": "py4_pULxwU9o",
        "colab_type": "code",
        "colab": {}
      },
      "source": [
        "# para executar usa o seguinte script\n",
        "# pytone nome do arquivo.py\n",
        "\n",
        "!python arquivo1.py"
      ],
      "execution_count": null,
      "outputs": []
    },
    {
      "cell_type": "code",
      "metadata": {
        "id": "vRxMX04a3HKP",
        "colab_type": "code",
        "colab": {}
      },
      "source": [
        "%%writefile flask/templates/ex_templates.html\n",
        "<html>\n",
        "<header><title>Exemplo com Templates</title></header>\n",
        "<body>\n",
        "Exemplo com Templates de arquivo html (rota1)!\n",
        "</body>\n",
        "</html>"
      ],
      "execution_count": null,
      "outputs": []
    },
    {
      "cell_type": "code",
      "metadata": {
        "id": "fWOpdu7B3zEY",
        "colab_type": "code",
        "colab": {}
      },
      "source": [
        "# Adicionando um novo script fazer rodar o html no colab\n",
        "\n",
        "%%writefile flask/ex_templates.py\n",
        "from flask import Flask, render_template\n",
        "from flask_ngrok import run_with_ngrok\n",
        "\n",
        "app = Flask(__name__)\n",
        "run_with_ngrok(app) # Start ngrok when app is run\n",
        "\n",
        "@app.route(\"/\")\n",
        "def index():\n",
        " return \"Exemplo com templates!\"\n",
        "\n",
        "@app.route('/rota1/')\n",
        "def rota1():\n",
        " return render_template ('ex_templates.html' )\n",
        " \n",
        "if __name__ == \"__main__\":\n",
        " app.run()"
      ],
      "execution_count": null,
      "outputs": []
    },
    {
      "cell_type": "code",
      "metadata": {
        "id": "Ih8p4DBI4ucx",
        "colab_type": "code",
        "colab": {}
      },
      "source": [
        "# executar o arquivo que acabamos de criar\n",
        "\n",
        "! python flask/ex_templates.py\n"
      ],
      "execution_count": null,
      "outputs": []
    },
    {
      "cell_type": "code",
      "metadata": {
        "id": "c38tTbsC8Ct4",
        "colab_type": "code",
        "colab": {}
      },
      "source": [
        "# criei uma novo arquivo\n",
        "%%writefile flask/templates/ex_templates2.html\n",
        "\n",
        "<!doctype html>\n",
        "{% block title %} Index {% endblock %}\n",
        "{% block body %}\n",
        "<div class=\"block1\">\n",
        "{% if name %}\n",
        "<h1>Parametro: {{name}}!</h1>\n",
        "{% else %}\n",
        "<h2>Exemplo de Template (rota2)</h2>\n",
        "{% endif %}\n",
        "</div>\n",
        "{% endblock %}"
      ],
      "execution_count": null,
      "outputs": []
    },
    {
      "cell_type": "code",
      "metadata": {
        "id": "syPyJPUA8t8M",
        "colab_type": "code",
        "colab": {}
      },
      "source": [
        "# criei em pyton para rodar o arquivo\n",
        "\n",
        "%%writefile flask/ex_templates2.py\n",
        "from flask import Flask, render_template\n",
        "from flask_ngrok import run_with_ngrok\n",
        "app = Flask(__name__)\n",
        "run_with_ngrok(app) # Start ngrok when app is run\n",
        "@app.route(\"/\")\n",
        "def index():\n",
        " return \"Exemplo com templates 2!\"\n",
        "@app.route('/rota1/')\n",
        "def rota1():\n",
        " return render_template('ex_templates.html')\n",
        "@app.route(\"/rota2/\")\n",
        "@app.route(\"/rota2/<string:name>/\")\n",
        "def rota2(name=None):\n",
        " return render_template('ex_templates2.html',name=name)\n",
        "if __name__ == \"__main__\":\n",
        " app.run()"
      ],
      "execution_count": null,
      "outputs": []
    },
    {
      "cell_type": "code",
      "metadata": {
        "id": "qz4Msm1n9HXL",
        "colab_type": "code",
        "colab": {}
      },
      "source": [
        "# executar o arquivo que acabamos de criar\n",
        "\n",
        "! python flask/ex_templates2.py"
      ],
      "execution_count": null,
      "outputs": []
    },
    {
      "cell_type": "code",
      "metadata": {
        "id": "HBjV2eBnD5Z7",
        "colab_type": "code",
        "colab": {}
      },
      "source": [
        "# Também é possível mostrar variáveis internas do script com o uso do\n",
        "# identificador **locals():\n",
        "\n",
        "\n",
        "%%writefile flask/ex_templates3.py\n",
        "from flask import Flask, render_template\n",
        "from flask_ngrok import run_with_ngrok\n",
        "app = Flask(__name__)\n",
        "run_with_ngrok(app) # Start ngrok when app is run\n",
        "@app.route(\"/\")\n",
        "def index():\n",
        " return \"Exemplo com variaveis internas!\"\n",
        "@app.route(\"/rota1/\")\n",
        "@app.route(\"/rota1/<string:name>/\")\n",
        "def rota1(name=None):\n",
        " lista = [ \"Var 1\", \"Var 2\", 3.75, 1096 ]\n",
        " dicio = { 'Key1': 'Valor 1', 'Key2': 123 }\n",
        " return render_template('ex_templates3.html',**locals())\n",
        "if __name__ == \"__main__\":\n",
        " app.run()"
      ],
      "execution_count": null,
      "outputs": []
    },
    {
      "cell_type": "code",
      "metadata": {
        "id": "9QbWDo8NEaTT",
        "colab_type": "code",
        "colab": {}
      },
      "source": [
        "# exemplo de template ex_templates3.html\n",
        "\n",
        "%%writefile flask/templates/ex_templates3.html\n",
        "<!doctype html>\n",
        "{% block body %}\n",
        "<div class=\"block1\">\n",
        "{% if name %}\n",
        "<h1>Parametro: {{name}}!</h1>\n",
        "{% else %}\n",
        "<h2>Exemplo de Template</h2>\n",
        "{% endif %}\n",
        "<h2>Variaveis internas: {{lista}}</h2>\n",
        "<h2>Variavel interna 1: {{lista[0]}}</h2>\n",
        "<h2>Dicionario: {{dicio}}</h2>\n",
        "<h2>Dicionario 1: {{dicio['Key1']}}</h2>\n",
        "<h2>Dicionario 2: {{dicio.Key2}}</h2>\n",
        "</div>\n",
        "{% endblock %}"
      ],
      "execution_count": null,
      "outputs": []
    },
    {
      "cell_type": "code",
      "metadata": {
        "id": "x23tMss9Ex5t",
        "colab_type": "code",
        "colab": {}
      },
      "source": [
        "# Para executar: ex_templates3.py\n",
        "\n",
        "!python flask/ex_templates3.py"
      ],
      "execution_count": null,
      "outputs": []
    },
    {
      "cell_type": "code",
      "metadata": {
        "id": "GGJhW_lJHGPn",
        "colab_type": "code",
        "colab": {}
      },
      "source": [
        "# Gráficos\n",
        "# ● Podemos utilizar o matplotlib para gerar gráficos e adicionar eles como\n",
        "# imagem na página html:\n",
        "%%writefile flask/templates/ex_matplotlib.html\n",
        "<!doctype html>\n",
        "<html>\n",
        "<title>Exemplo com matplotlib</title>\n",
        "<body>\n",
        " <div>Grafico 1</div>\n",
        " <div><img src= '{{ graph1 }}' ></img></div>\n",
        " <div>Grafico 2</div>\n",
        " <div><img src= '{{ graph2 }}' ></img></div>\n",
        "</body>\n",
        "</html>"
      ],
      "execution_count": null,
      "outputs": []
    },
    {
      "cell_type": "code",
      "metadata": {
        "id": "Z52ir3JrHVMS",
        "colab_type": "code",
        "colab": {}
      },
      "source": [
        "# Gráficos\n",
        "# ● O código necessita de uma função para plotar os dados em um gráfico e\n",
        "# retornar uma imagem:\n",
        "\n",
        "%%writefile flask/ex_matplotlib.py\n",
        "from flask import Flask, render_template\n",
        "from flask_ngrok import run_with_ngrok\n",
        "import matplotlib.pyplot as plt\n",
        "import io\n",
        "import base64\n",
        "\n",
        "app = Flask(__name__)\n",
        "run_with_ngrok(app) # Start ngrok when app is run\n",
        "\n",
        "def build_graph(x_coordinates, y_coordinates):\n",
        "  img = io.BytesIO()\n",
        "  plt.plot(x_coordinates, y_coordinates)\n",
        "  plt.savefig(img, format='png')\n",
        "  img.seek(0)\n",
        "  graph_url = base64.b64encode(img.getvalue()).decode()\n",
        "  plt.close()\n",
        "  return 'data:image/png;base64,{}' .format(graph_url)\n",
        "\n",
        "@app.route(\"/\") #modifiquei para ja aparecer na tela\n",
        "@app.route('/graphs')\n",
        "def graphs():\n",
        "  #These coordinates could be stored in DB\n",
        "  x1 = [0, 1, 2, 3, 4]\n",
        "  y1 = [10, 30, 40, 5, 50]\n",
        "  x2 = [0, 1, 2, 3, 4]\n",
        "  y2 = [50, 30, 20, 10, 50]\n",
        " \n",
        "  graph1_url = build_graph(x1,y1);\n",
        "  graph2_url = build_graph(x2,y2);\n",
        "\n",
        "  return render_template( 'ex_matplotlib.html' ,\n",
        "  graph1=graph1_url,\n",
        "  graph2=graph2_url)\n",
        "\n",
        "if __name__ == '__main__':\n",
        "  app.debug = True\n",
        "  app.run()"
      ],
      "execution_count": null,
      "outputs": []
    },
    {
      "cell_type": "code",
      "metadata": {
        "id": "154BfUX2Hoax",
        "colab_type": "code",
        "colab": {}
      },
      "source": [
        "# executar grafico\n",
        "# no endereço utml colocar graphs\n",
        "# porque eu não tenho minha rota graphs\n",
        "\n",
        "!python flask/ex_matplotlib.py"
      ],
      "execution_count": null,
      "outputs": []
    },
    {
      "cell_type": "markdown",
      "metadata": {
        "id": "joWFZfKrzf25",
        "colab_type": "text"
      },
      "source": [
        ""
      ]
    }
  ]
}