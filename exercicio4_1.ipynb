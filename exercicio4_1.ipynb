{
  "nbformat": 4,
  "nbformat_minor": 0,
  "metadata": {
    "colab": {
      "name": "exercicio4_1.ipynb",
      "provenance": [],
      "collapsed_sections": [],
      "authorship_tag": "ABX9TyO2IAUrJzdZu89GDWppAvLQ",
      "include_colab_link": true
    },
    "kernelspec": {
      "name": "python3",
      "display_name": "Python 3"
    }
  },
  "cells": [
    {
      "cell_type": "markdown",
      "metadata": {
        "id": "view-in-github",
        "colab_type": "text"
      },
      "source": [
        "<a href=\"https://colab.research.google.com/github/murilosenai/Estudo-de-Python/blob/master/exercicio4_1.ipynb\" target=\"_parent\"><img src=\"https://colab.research.google.com/assets/colab-badge.svg\" alt=\"Open In Colab\"/></a>"
      ]
    },
    {
      "cell_type": "code",
      "metadata": {
        "id": "vuhIAJ54KMDE",
        "colab_type": "code",
        "colab": {}
      },
      "source": [
        "# estrutura basica servidor\n",
        "\n",
        "from flask import Flask\n",
        "app = Flask(__name__)\n",
        "\n",
        "@app.route (\"/\")\n",
        "def hello():\n",
        "  return \"Hello World!\"\n",
        "if __name__ == \"__main__\" :\n",
        "  app.run()"
      ],
      "execution_count": null,
      "outputs": []
    },
    {
      "cell_type": "code",
      "metadata": {
        "id": "GlD39-PTKuxt",
        "colab_type": "code",
        "colab": {}
      },
      "source": [
        "# estrutura basica servidor mundando host e a porta\n",
        "from flask import Flask\n",
        "app = Flask(__name__)\n",
        "\n",
        "@app.route (\"/\")\n",
        "def hello():\n",
        "  return \"Hello World!\"\n",
        "\n",
        "if __name__ == '__main__' :\n",
        "  app.run(host='192.168.10.11', port=80)"
      ],
      "execution_count": null,
      "outputs": []
    },
    {
      "cell_type": "code",
      "metadata": {
        "id": "yBEOVY5sM_Ql",
        "colab_type": "code",
        "colab": {}
      },
      "source": [
        "#instalar servidor\n",
        "\n",
        "!pip install flask\n",
        "!pip install flask_ngrok\n"
      ],
      "execution_count": null,
      "outputs": []
    },
    {
      "cell_type": "code",
      "metadata": {
        "id": "XSy6ZGV0NT9G",
        "colab_type": "code",
        "colab": {}
      },
      "source": [
        "# Ngrok\n",
        "# ● Estrutura básica:\n",
        "# Um decorador usado para registrar uma função de exibição para uma regra\n",
        "# de URL especificada.\n",
        "\n",
        "from flask import Flask\n",
        "from flask_ngrok import run_with_ngrok\n",
        "\n",
        "app = Flask(__name__)\n",
        "run_with_ngrok(app) # Start ngrok when app is run\n",
        "\n",
        "@app.route (\"/\")\n",
        "def hello():\n",
        "  return \"Servidor web com flask e ngrok!\"\n",
        "\n",
        "if __name__ == '__main__' :\n",
        "    app.run()\n"
      ],
      "execution_count": null,
      "outputs": []
    },
    {
      "cell_type": "code",
      "metadata": {
        "id": "G9CxMHU-N1qe",
        "colab_type": "code",
        "colab": {
          "base_uri": "https://localhost:8080/",
          "height": 33
        },
        "outputId": "ef815a94-461f-4310-fb97-a744dc932360"
      },
      "source": [
        "# Rotas\n",
        "# ● Criando outras rotas\n",
        "# primeiro criar a pasta flask e a pasta templates dentro da pasta flask.\n",
        "\n",
        "#%%write salva o arquivo no local indicado\n",
        "%%writefile flask/2_rotas.py\n",
        "\n",
        "\n",
        "# rota ate o local onde sera salvo /content/drive/My Drive/Colab Notebooks/flask\n",
        "\n",
        "from flask import Flask\n",
        "from flask_ngrok import run_with_ngrok\n",
        "\n",
        "app = Flask(__name__)\n",
        "run_with_ngrok(app) # Start ngrok when app is run\n",
        "\n",
        "@app.route (\"/\")\n",
        "def index():\n",
        "  return \"Index!\"\n",
        "\n",
        "@app.route (\"/hello\")\n",
        "def hello():\n",
        "  return \"Hello World!\"\n",
        "\n",
        "@app.route (\"/rota1\")\n",
        "def rota1():\n",
        "  return \"Rota 1\"\n",
        "\n",
        "@app.route (\"/rota1/<string:name>/\" )\n",
        "def getVar(name):\n",
        "  return name\n",
        "\n",
        "\n",
        "if __name__ == '__main__' :\n",
        "    app.run()\n",
        "\n",
        "\n"
      ],
      "execution_count": null,
      "outputs": [
        {
          "output_type": "stream",
          "text": [
            "Writing flask/2_rotas.py\n"
          ],
          "name": "stdout"
        }
      ]
    },
    {
      "cell_type": "markdown",
      "metadata": {
        "id": "8rcPg8fUGZn9",
        "colab_type": "text"
      },
      "source": [
        ""
      ]
    },
    {
      "cell_type": "code",
      "metadata": {
        "id": "lXjOWGfpP9Gv",
        "colab_type": "code",
        "colab": {}
      },
      "source": [
        "# executa o arquivo que foi salvo\n",
        "\n",
        "!python 'flask/2_rotas.py'\n",
        "\n",
        "\n"
      ],
      "execution_count": null,
      "outputs": []
    },
    {
      "cell_type": "code",
      "metadata": {
        "id": "FXlsQ3N3SH2A",
        "colab_type": "code",
        "colab": {
          "base_uri": "https://localhost:8080/",
          "height": 33
        },
        "outputId": "19874e95-1079-4ce9-b314-fc93d58cfb03"
      },
      "source": [
        "# fazer uploade dos arquivo para dentro do goolge drive\n",
        "\n",
        "from google.colab import drive\n",
        "drive.mount( '/content/drive' )\n",
        "\n"
      ],
      "execution_count": null,
      "outputs": [
        {
          "output_type": "stream",
          "text": [
            "Drive already mounted at /content/drive; to attempt to forcibly remount, call drive.mount(\"/content/drive\", force_remount=True).\n"
          ],
          "name": "stdout"
        }
      ]
    },
    {
      "cell_type": "code",
      "metadata": {
        "id": "3EwOR1vESeJ5",
        "colab_type": "code",
        "colab": {}
      },
      "source": [
        "# Templates\n",
        "# ● Adicione um arquivo html no diretório “templates”:\n",
        "\n",
        "\n",
        "%%writefile flask/templates/ex_templates.html\n",
        "<html>\n",
        "<header><title>Exemplo com Templates</title></header>\n",
        "<body>\n",
        "Exemplo com Templates de arquivo html (rota1)!\n",
        "</body>\n",
        "</html>"
      ],
      "execution_count": null,
      "outputs": []
    },
    {
      "cell_type": "code",
      "metadata": {
        "id": "6K0rc9KgSzoa",
        "colab_type": "code",
        "colab": {
          "base_uri": "https://localhost:8080/",
          "height": 33
        },
        "outputId": "76ff0172-e5f6-4925-a139-ac4540d5129f"
      },
      "source": [
        "# Templates\n",
        "# ● Adicione um novo script:\n",
        "\n",
        "%%writefile flask/ex_templates.py\n",
        "from flask import Flask, render_template\n",
        "from flask_ngrok import run_with_ngrok\n",
        "\n",
        "app = Flask(__name__)\n",
        "run_with_ngrok(app) # Start ngrok when app is run\n",
        "\n",
        "@app.route (\"/\")\n",
        "def index():\n",
        "  return \"Exemplo com templates!\"\n",
        "\n",
        "@app.route ('/rota1/' )\n",
        "def rota1():\n",
        "  return render_template ('ex_templates.html' )\n",
        "\n",
        "if __name__ == \"__main__\" :\n",
        "  app.run()\n",
        "\n"
      ],
      "execution_count": null,
      "outputs": [
        {
          "output_type": "stream",
          "text": [
            "Writing flask/ex_templates.py\n"
          ],
          "name": "stdout"
        }
      ]
    },
    {
      "cell_type": "code",
      "metadata": {
        "id": "JNZVOTb8TKsj",
        "colab_type": "code",
        "colab": {}
      },
      "source": [
        "# Templates\n",
        "# ● Para executar:\n",
        "\n",
        "!python flask/ex_templates.py\n",
        "\n"
      ],
      "execution_count": null,
      "outputs": []
    },
    {
      "cell_type": "code",
      "metadata": {
        "id": "RAOGv66EUH0d",
        "colab_type": "code",
        "colab": {
          "base_uri": "https://localhost:8080/",
          "height": 33
        },
        "outputId": "cc05bc59-a02e-48a8-9383-aa36c689ba95"
      },
      "source": [
        "# Templates\n",
        "# ● Exemplo de utilização:\n",
        "\n",
        "%%writefile flask/templates/ex_templates2.html\n",
        "\n",
        "<!doctype html>\n",
        "{% block title %} Index {% endblock %}\n",
        "{% block body %}\n",
        "<div class=\"block1\">\n",
        "\n",
        "{% if name %}\n",
        "<h1>Parametro: {{name}}!</h1>\n",
        "\n",
        "{% else %}\n",
        "<h2>Exemplo de Template (rota2)</h2>\n",
        "{% endif %}\n",
        "</div>\n",
        "{% endblock %}\n",
        "\n"
      ],
      "execution_count": null,
      "outputs": [
        {
          "output_type": "stream",
          "text": [
            "Writing flask/templates/ex_templates2.html\n"
          ],
          "name": "stdout"
        }
      ]
    },
    {
      "cell_type": "code",
      "metadata": {
        "id": "adGlZ2XMUtvs",
        "colab_type": "code",
        "colab": {}
      },
      "source": [
        "# Templates\n",
        "# ● Atualize o script anterior com novas rotas:\n",
        "\n",
        "%%writefile flask/ex_templates2.py\n",
        "\n",
        "from flask import Flask, render_template\n",
        "from flask_ngrok import run_with_ngrok\n",
        "\n",
        "app = Flask(__name__)\n",
        "run_with_ngrok(app) # Start ngrok when app is run\n",
        "\n",
        "@app.route(\"/\")\n",
        "def index():\n",
        "  return \"Exemplo com templates 2!\"\n",
        "\n",
        "@app.route('/rota1/')\n",
        "def rota1():\n",
        "  return render_template('ex_templates.html')\n",
        "\n",
        "@app.route(\"/rota2/\")\n",
        "@app.route(\"/rota2/<string:name>/\")\n",
        "def rota2(name=None):\n",
        "  return render_template('ex_templates2.html',name=name)\n",
        "  \n",
        "if __name__ == \"__main__\":\n",
        "  app.run()\n",
        "\n"
      ],
      "execution_count": null,
      "outputs": []
    },
    {
      "cell_type": "code",
      "metadata": {
        "id": "OrAplP-OVKwI",
        "colab_type": "code",
        "colab": {}
      },
      "source": [
        "# Templates\n",
        "# ● Para executar:\n",
        "!python flask/ex_templates2.py\n",
        "\n"
      ],
      "execution_count": null,
      "outputs": []
    },
    {
      "cell_type": "code",
      "metadata": {
        "id": "yS-8euFwKSKn",
        "colab_type": "code",
        "colab": {
          "base_uri": "https://localhost:8080/",
          "height": 33
        },
        "outputId": "b56501f0-2f16-4999-ec64-88832b27859a"
      },
      "source": [
        "# Também é possível mostrar variáveis internas do script com o uso do\n",
        "# identificador **locals():\n",
        "\n",
        "%%writefile flask/ex_templates3.py\n",
        "from flask import Flask, render_template\n",
        "from flask_ngrok import run_with_ngrok\n",
        "app = Flask(__name__)\n",
        "run_with_ngrok(app) # Start ngrok when app is run\n",
        "@app.route(\"/\")\n",
        "def index():\n",
        "return \"Exemplo com variaveis internas!\"\n",
        "@app.route(\"/rota1/\")\n",
        "@app.route(\"/rota1/<string:name>/\")\n",
        "def rota1(name=None):\n",
        "lista = [ \"Var 1\", \"Var 2\", 3.75, 1096 ]\n",
        "dicio = { 'Key1': 'Valor 1', 'Key2': 123 }\n",
        "return render_template('ex_templates3.html',**locals())\n",
        "if __name__ == \"__main__\":\n",
        "app.run()"
      ],
      "execution_count": null,
      "outputs": [
        {
          "output_type": "stream",
          "text": [
            "Overwriting flask/ex_templates3.py\n"
          ],
          "name": "stdout"
        }
      ]
    },
    {
      "cell_type": "code",
      "metadata": {
        "id": "5QnR-br-KmID",
        "colab_type": "code",
        "colab": {
          "base_uri": "https://localhost:8080/",
          "height": 33
        },
        "outputId": "6d2c8f49-20d2-44f8-b21d-ea0be06ffe5a"
      },
      "source": [
        "# salvando o próximo exemplo de template:\n",
        "\n",
        "%%writefile flask/templates/ex_templates3.html\n",
        "<!doctype html>\n",
        "{% block body %}\n",
        "<div class=\"block1\">\n",
        "{% if name %}\n",
        "<h1>Parametro: {{name}}!</h1>\n",
        "{% else %}\n",
        "<h2>Exemplo de Template</h2>\n",
        "{% endif %}\n",
        "<h2>Variaveis internas: {{lista}}</h2>\n",
        "<h2>Variavel interna 1: {{lista[ 0]}}</h2>\n",
        "<h2>Dicionario: {{dicio}}</h2>\n",
        "<h2>Dicionario 1: {{dicio[ 'Key1']}}</h2>\n",
        "<h2>Dicionario 2: {{dicio.Key2}}</h2>\n",
        "</div>\n",
        "{% endblock %}"
      ],
      "execution_count": null,
      "outputs": [
        {
          "output_type": "stream",
          "text": [
            "Writing flask/templates/ex_templates3.html\n"
          ],
          "name": "stdout"
        }
      ]
    },
    {
      "cell_type": "code",
      "metadata": {
        "id": "ZMbRzm1RKwHC",
        "colab_type": "code",
        "colab": {
          "base_uri": "https://localhost:8080/",
          "height": 33
        },
        "outputId": "81621444-b9be-4a26-c2c2-2fc646737a8c"
      },
      "source": [
        "# Para executar exemplo 3\n",
        "\n",
        "!python flask/ ex_templates3.py"
      ],
      "execution_count": null,
      "outputs": [
        {
          "output_type": "stream",
          "text": [
            "/usr/bin/python3: can't find '__main__' module in 'flask/'\n"
          ],
          "name": "stdout"
        }
      ]
    },
    {
      "cell_type": "code",
      "metadata": {
        "id": "aWJWZXXxK9uC",
        "colab_type": "code",
        "colab": {
          "base_uri": "https://localhost:8080/",
          "height": 33
        },
        "outputId": "d5864532-784e-419f-ecf6-887ef6846895"
      },
      "source": [
        "# Gráficos\n",
        "# ● Podemos utilizar o matplotlib para gerar gráficos e adicionar eles como\n",
        "# imagem na página html:\n",
        "%%writefile flask/templates/ex_matplotlib.html\n",
        "<!doctype html>\n",
        "<html>\n",
        "<title>Exemplo com matplotlib</title>\n",
        "<body>\n",
        " <div>Grafico 1</div>\n",
        " <div><img src= '{{ graph1 }}' ></img></div>\n",
        " <div>Grafico 2</div>\n",
        " <div><img src= '{{ graph2 }}' ></img></div>\n",
        "</body>\n",
        "</html>"
      ],
      "execution_count": null,
      "outputs": [
        {
          "output_type": "stream",
          "text": [
            "Overwriting flask/templates/ex_matplotlib.html\n"
          ],
          "name": "stdout"
        }
      ]
    },
    {
      "cell_type": "code",
      "metadata": {
        "id": "bWuBR48MLH-_",
        "colab_type": "code",
        "colab": {
          "base_uri": "https://localhost:8080/",
          "height": 33
        },
        "outputId": "66b923cd-38db-4a26-f3ee-93fdddc35a1d"
      },
      "source": [
        "# Gráficos\n",
        "# ● O código necessita de uma função para plotar os dados em um gráfico e\n",
        "# retornar uma imagem:\n",
        "\n",
        "%%writefile flask/ex_matplotlib.py\n",
        "from flask import Flask, render_template\n",
        "from flask_ngrok import run_with_ngrok\n",
        "import matplotlib.pyplot as plt\n",
        "import io\n",
        "import base64\n",
        "\n",
        "app = Flask(__name__)\n",
        "run_with_ngrok(app) # Start ngrok when app is run\n",
        "\n",
        "def build_graph(x_coordinates, y_coordinates):\n",
        "  img = io.BytesIO()\n",
        "  plt.plot(x_coordinates, y_coordinates)\n",
        "  plt.savefig(img, format='png')\n",
        "  img.seek(0)\n",
        "  graph_url = base64.b64encode(img.getvalue()).decode()\n",
        "  plt.close()\n",
        "  return 'data:image/png;base64,{}' .format(graph_url)\n",
        "\n",
        "@app.route(\"/\") #modifiquei para ja aparecer na tela\n",
        "@app.route('/graphs')\n",
        "def graphs():\n",
        "  #These coordinates could be stored in DB\n",
        "  x1 = [0, 1, 2, 3, 4]\n",
        "  y1 = [10, 30, 40, 5, 50]\n",
        "  x2 = [0, 1, 2, 3, 4]\n",
        "  y2 = [50, 30, 20, 10, 50]\n",
        " \n",
        "  graph1_url = build_graph(x1,y1);\n",
        "  graph2_url = build_graph(x2,y2);\n",
        "\n",
        "  return render_template( 'ex_matplotlib.html' ,\n",
        "  graph1=graph1_url,\n",
        "  graph2=graph2_url)\n",
        "\n",
        "if __name__ == '__main__':\n",
        "  app.debug = True\n",
        "  app.run()\n",
        "\n",
        "\n",
        "\n",
        "\n",
        "\n",
        "\n",
        "\n"
      ],
      "execution_count": null,
      "outputs": [
        {
          "output_type": "stream",
          "text": [
            "Overwriting flask/ex_matplotlib.py\n"
          ],
          "name": "stdout"
        }
      ]
    },
    {
      "cell_type": "code",
      "metadata": {
        "id": "FUafpjBxLWjY",
        "colab_type": "code",
        "colab": {}
      },
      "source": [
        "# Para executar: \n",
        "\n",
        "!python flask/ex_matplotlib.py"
      ],
      "execution_count": null,
      "outputs": []
    },
    {
      "cell_type": "code",
      "metadata": {
        "id": "CDJZwPRzPyuK",
        "colab_type": "code",
        "colab": {}
      },
      "source": [
        "# Métodos HTTP\n",
        "# ● Estrutura básica:\n",
        "from flask import Flask, request\n",
        "\n",
        "@app.route ('/login', methods=['GET', 'POST'])\n",
        "def login():\n",
        "  if request.method == 'POST':\n",
        "    return do_the_login()\n",
        "  else:\n",
        "    return show_the_login_form()"
      ],
      "execution_count": null,
      "outputs": []
    },
    {
      "cell_type": "code",
      "metadata": {
        "id": "Qi-qh9MIQKe9",
        "colab_type": "code",
        "colab": {
          "base_uri": "https://localhost:8080/",
          "height": 126
        },
        "outputId": "35a64402-98b9-4e9d-e8e4-3bc64d39e7d3"
      },
      "source": [
        "# Métodos HTTP\n",
        "\n",
        "from flask import Flask\n",
        "from flask import request\n",
        "from flask_ngrok import run_with_ngrok\n",
        "\n",
        "app = Flask(__name__)\n",
        "run_with_ngrok(app) # Start ngrok when app is run\n",
        "\n",
        "@app.route (\"/postjson\" , methods = [ 'POST'])\n",
        "def postJsonHandler ():\n",
        "  if request.method == 'POST':\n",
        "    r = request.json #request.get_json()\n",
        "    response = \"2\"\n",
        "    print(\"Recebido: \" )\n",
        "    print(r)\n",
        "    if(r['id'] == \"76C9E448\" ):\n",
        "      response = \"1\"\n",
        "    elif(r['id'] == \"76C9E447\" ):\n",
        "      response = \"0\"\n",
        "  return(response)\n",
        "  \n",
        "if __name__ == \"__main__\" :\n",
        "app.run()"
      ],
      "execution_count": null,
      "outputs": [
        {
          "output_type": "error",
          "ename": "IndentationError",
          "evalue": "ignored",
          "traceback": [
            "\u001b[0;36m  File \u001b[0;32m\"<ipython-input-53-a5820d1308c2>\"\u001b[0;36m, line \u001b[0;32m24\u001b[0m\n\u001b[0;31m    app.run()\u001b[0m\n\u001b[0m      ^\u001b[0m\n\u001b[0;31mIndentationError\u001b[0m\u001b[0;31m:\u001b[0m expected an indented block\n"
          ]
        }
      ]
    }
  ]
}