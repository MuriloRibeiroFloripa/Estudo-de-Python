{
  "nbformat": 4,
  "nbformat_minor": 0,
  "metadata": {
    "colab": {
      "name": "exercicio2_6.ipynb",
      "provenance": [],
      "collapsed_sections": [],
      "authorship_tag": "ABX9TyO7EySiVIhk4XDbY+Y85ahw",
      "include_colab_link": true
    },
    "kernelspec": {
      "name": "python3",
      "display_name": "Python 3"
    }
  },
  "cells": [
    {
      "cell_type": "markdown",
      "metadata": {
        "id": "view-in-github",
        "colab_type": "text"
      },
      "source": [
        "<a href=\"https://colab.research.google.com/github/murilosenai/Estudo-de-Python/blob/master/exercicio2_6.ipynb\" target=\"_parent\"><img src=\"https://colab.research.google.com/assets/colab-badge.svg\" alt=\"Open In Colab\"/></a>"
      ]
    },
    {
      "cell_type": "code",
      "metadata": {
        "id": "63lCTXkX04HA",
        "colab_type": "code",
        "colab": {
          "base_uri": "https://localhost:8080/",
          "height": 136
        },
        "outputId": "52d285f5-f428-4a52-893c-dee0d671deed"
      },
      "source": [
        "# Faça um programa que leia uma cadeia de caracteres e troque todos as letras pela seguinte e\n",
        "# ‘z’ por ‘a’. Ex: ‘abc’ -> ‘bcd’ Ex2.: ‘xyz’ -> ‘yza’\n",
        "# Para isso, converta o caractere ASCII em número com o método ord(), some um e converta\n",
        "# novamente em caractere ASCII com o método chr():\n",
        "\n",
        "\n",
        "\n",
        "letras = input(\"informe uma cadeia de caracter: \")\n",
        "lista = list(letras) #transforma para lista\n",
        "\n",
        "for x in lista:\n",
        "    if x == 'z': # letras minusculas\n",
        "      x = '`' \n",
        "    if x == 'Z': # Letras maiuculas\n",
        "      x = '@'\n",
        "    letra = x\n",
        "    num = ord(letra)\n",
        "    num += 1\n",
        "    letra = chr(num)\n",
        "    print(letra)\n",
        "\n",
        "    \n",
        "\n",
        "\n",
        "\n",
        "\n",
        "  \n",
        "\n",
        "\n",
        "\n"
      ],
      "execution_count": 1,
      "outputs": [
        {
          "output_type": "stream",
          "text": [
            "informe uma cadeia de caracter: Murilo\n",
            "N\n",
            "v\n",
            "s\n",
            "j\n",
            "m\n",
            "p\n"
          ],
          "name": "stdout"
        }
      ]
    }
  ]
}