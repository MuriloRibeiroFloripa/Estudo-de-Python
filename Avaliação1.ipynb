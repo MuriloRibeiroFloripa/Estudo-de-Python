{
  "nbformat": 4,
  "nbformat_minor": 0,
  "metadata": {
    "colab": {
      "name": "Avaliação1.ipynb",
      "provenance": [],
      "collapsed_sections": [],
      "authorship_tag": "ABX9TyPmsYst8MFXlGHVYIuhrKJs",
      "include_colab_link": true
    },
    "kernelspec": {
      "name": "python3",
      "display_name": "Python 3"
    }
  },
  "cells": [
    {
      "cell_type": "markdown",
      "metadata": {
        "id": "view-in-github",
        "colab_type": "text"
      },
      "source": [
        "<a href=\"https://colab.research.google.com/github/murilosenai/Estudo-de-Python/blob/master/Avalia%C3%A7%C3%A3o1.ipynb\" target=\"_parent\"><img src=\"https://colab.research.google.com/assets/colab-badge.svg\" alt=\"Open In Colab\"/></a>"
      ]
    },
    {
      "cell_type": "code",
      "metadata": {
        "id": "Hfb5gS85G9pK",
        "colab_type": "code",
        "colab": {
          "base_uri": "https://localhost:8080/",
          "height": 1000
        },
        "outputId": "4722d1bf-31fe-4749-a56e-aa4ada26de5e"
      },
      "source": [
        "# a) (2 pontos) - Faça um programa que apresente um menu ao usuário com as opções:\n",
        "# 1 – Definir parâmetros\n",
        "# 2 – Selecionar tipo de forma onda\n",
        "# 3 – Sair do programa\n",
        "# - Os parâmetros que podem ser definidos são a amplitude e número de repetições.\n",
        "# - Os tipos de forma de onda são: dente de serra, triangular e quadrática.\n",
        "# - Após a seleção de um tipo de forma de onda deverá ser apresentado o gráfico correspondente,\n",
        "#    utilizando os parâmetros definidos na opção 1. Utilize como valores iniciais amplitude = 1 e repetições = 1. \n",
        "#    Utilize os módulos numpy e matplotlib para gerar o gráfico.\n",
        "\n",
        "import os\n",
        "\n",
        "import matplotlib.pyplot as plt\n",
        "import numpy as np\n",
        "import ipywidgets as widgets\n",
        "from ipywidgets import interact, interact_manual\n",
        "\n",
        "c=1\n",
        "a=1\n",
        "\n",
        "while 1:\n",
        "  print(\"==========================================\")\n",
        "  print(\"          Escolha uma das opções          \")\n",
        "  print(\"==========================================\")\n",
        "  print(\"  [1]  -  Definir parâmetros \")\n",
        "  print(\"  [2]  -  Selecionar tipo de forma onda\")\n",
        "  print(\"  [3]  -  Sair do programa \")\n",
        "  print(\" \")\n",
        "  res = int(input(\"Opcao: \"))\n",
        "  \n",
        "  if res == 1:\n",
        "    print(\"++++++++++++++++++++++++++++++++++++++++++\")\n",
        "    print(\"        1  –   Definir parâmetros         \")\n",
        "    print(\"++++++++++++++++++++++++++++++++++++++++++\")\n",
        "    c = int(input(\"Informe a Quatidade de cilcos da Onda: \"))\n",
        "    a = int(input(\"Informe a Amplitude da onda que desejada: \"))\n",
        "    \n",
        "\n",
        "  elif res == 2:\n",
        "    print(\"++++++++++++++++++++++++++++++++++++++++++\")\n",
        "    print(\"    2 – Selecionar tipo de forma onda     \")\n",
        "    print(\"++++++++++++++++++++++++++++++++++++++++++\")\n",
        "    print(\"  [1]  -  ONDA, DENTE DE SERRA. \")\n",
        "    print(\"  [2]  -  ONDA, TRIANGULAR \")\n",
        "    print(\"  [3]  -  ONDA, QUADRÁTICA \")\n",
        "    print(\"  [4]  -  VOLTAR MENU PRINCIPAL\")\n",
        "    print(\" \")\n",
        "    tipo_onda = int(input(\"Opcao: \"))\n",
        "\n",
        "    if tipo_onda == 1:\n",
        "      print(\"++++++++++++++++++++++++++++++++++++++++++\")\n",
        "      print(\"        1  -  ONDA, DENTE DE SERRA.       \")\n",
        "      print(\"++++++++++++++++++++++++++++++++++++++++++\")\n",
        "      def plot_data(x, y):\n",
        "        plt.plot(x, y)\n",
        "        plt.ylim(-20,20)\n",
        "        plt.show()\n",
        "      def onda_serra(c, a):\n",
        "        ref_x = np.array([0,2,2])\n",
        "        x = np.empty(0)\n",
        "        for i in range(c):\n",
        "          x = np.append(x, ref_x+(i*2))\n",
        "          plt.title( \"Grafico Dente de Serra\" )\n",
        "        y = np.tile(a * np.array([0,1,0]), c)\n",
        "        plot_data(x,y)\n",
        "      onda_serra(c,a)     \n",
        "\n",
        "    elif tipo_onda == 2:\n",
        "      print(\"++++++++++++++++++++++++++++++++++++++++++\")\n",
        "      print(\"        2  -  ONDA, TRIANGULAR.       \")\n",
        "      print(\"++++++++++++++++++++++++++++++++++++++++++\")\n",
        "      def plot_data(x, y):\n",
        "        plt.plot(x, y)\n",
        "        plt.ylim(-20,20)\n",
        "        plt.show()      \n",
        "      def onda_Triangulo(c, a):\n",
        "        ref_x = np.array([-2, -1, 0])\n",
        "        x = np.empty(0)\n",
        "        for i in range(c):\n",
        "          x = np.append(x, ref_x+(i*2))\n",
        "          plt.title( \"Grafico Triangular\" )\n",
        "        y = np.tile(a * np.array([-2, 2, -2]), c)\n",
        "        plot_data(x,y)\n",
        "      onda_Triangulo(c,a)\n",
        "\n",
        "    elif tipo_onda == 3:\n",
        "      print(\"++++++++++++++++++++++++++++++++++++++++++\")\n",
        "      print(\"        3  -  ONDA, QUADRÁTICA.       \")\n",
        "      print(\"++++++++++++++++++++++++++++++++++++++++++\")\n",
        "      def plot_data(x, y):\n",
        "        plt.plot(x, y)\n",
        "        plt.ylim(-20, 20)\n",
        "        plt.show()      \n",
        "      def onda_quadrada(c, a):\n",
        "        ref_x = np.array([0, 0, 1, 1, 1, 2, 2])\n",
        "        x = np.empty(0)\n",
        "        for i in range(c):\n",
        "          x = np.append(x, ref_x+(i*2))\n",
        "          plt.title(\"Grafico quadrático\")\n",
        "        y = np.tile(a * np.array([0, 1, 1, 0, -1, -1, 0]), c)\n",
        "        plot_data(x,y)                          \n",
        "      onda_quadrada(c,a)\n",
        "\n",
        "    elif tipo_onda == 4:\n",
        "      exit\n",
        "    elif tipo_onda > 4:\n",
        "      print(\"---------------------------------------------------------\")\n",
        "      print(\"ERRO: A opção não se encontra defenida ! tente novamente!\")\n",
        "      print(\"---------------------------------------------------------\") \n",
        "    elif tipo_onda < 1:\n",
        "      print(\"---------------------------------------------------------\")\n",
        "      print(\"ERRO: A opção não se encontra defenida ! tente novamente!\")\n",
        "      print(\"---------------------------------------------------------\")  \n",
        "\n",
        "  elif res == 3:\n",
        "    break;\n",
        "\n",
        "  else:\n",
        "    print(\"---------------------------------------------------------\")\n",
        "    print(\"ERRO: A opção não se encontra defenida ! tente novamente!\")\n",
        "    print(\"---------------------------------------------------------\")\n",
        "  \n",
        "print()\n",
        "print()\n",
        "os.system(\"pause\")"
      ],
      "execution_count": 1,
      "outputs": [
        {
          "output_type": "stream",
          "text": [
            "==========================================\n",
            "          Escolha uma das opções          \n",
            "==========================================\n",
            "  [1]  -  Definir parâmetros \n",
            "  [2]  -  Selecionar tipo de forma onda\n",
            "  [3]  -  Sair do programa \n",
            " \n",
            "Opcao: 1\n",
            "++++++++++++++++++++++++++++++++++++++++++\n",
            "        1  –   Definir parâmetros         \n",
            "++++++++++++++++++++++++++++++++++++++++++\n",
            "Informe a Quatidade de cilcos da Onda: 3\n",
            "Informe a Amplitude da onda que desejada: 2\n",
            "==========================================\n",
            "          Escolha uma das opções          \n",
            "==========================================\n",
            "  [1]  -  Definir parâmetros \n",
            "  [2]  -  Selecionar tipo de forma onda\n",
            "  [3]  -  Sair do programa \n",
            " \n",
            "Opcao: 2\n",
            "++++++++++++++++++++++++++++++++++++++++++\n",
            "    2 – Selecionar tipo de forma onda     \n",
            "++++++++++++++++++++++++++++++++++++++++++\n",
            "  [1]  -  ONDA, DENTE DE SERRA. \n",
            "  [2]  -  ONDA, TRIANGULAR \n",
            "  [3]  -  ONDA, QUADRÁTICA \n",
            "  [4]  -  VOLTAR MENU PRINCIPAL\n",
            " \n",
            "Opcao: 2\n",
            "++++++++++++++++++++++++++++++++++++++++++\n",
            "        2  -  ONDA, TRIANGULAR.       \n",
            "++++++++++++++++++++++++++++++++++++++++++\n"
          ],
          "name": "stdout"
        },
        {
          "output_type": "display_data",
          "data": {
            "image/png": "[encoded data removed]",
            "text/plain": [
              "<Figure size 432x288 with 1 Axes>"
            ]
          },
          "metadata": {
            "tags": [],
            "needs_background": "light"
          }
        },
        {
          "output_type": "stream",
          "text": [
            "==========================================\n",
            "          Escolha uma das opções          \n",
            "==========================================\n",
            "  [1]  -  Definir parâmetros \n",
            "  [2]  -  Selecionar tipo de forma onda\n",
            "  [3]  -  Sair do programa \n",
            " \n",
            "Opcao: 2\n",
            "++++++++++++++++++++++++++++++++++++++++++\n",
            "    2 – Selecionar tipo de forma onda     \n",
            "++++++++++++++++++++++++++++++++++++++++++\n",
            "  [1]  -  ONDA, DENTE DE SERRA. \n",
            "  [2]  -  ONDA, TRIANGULAR \n",
            "  [3]  -  ONDA, QUADRÁTICA \n",
            "  [4]  -  VOLTAR MENU PRINCIPAL\n",
            " \n",
            "Opcao: 3\n",
            "++++++++++++++++++++++++++++++++++++++++++\n",
            "        3  -  ONDA, QUADRÁTICA.       \n",
            "++++++++++++++++++++++++++++++++++++++++++\n"
          ],
          "name": "stdout"
        },
        {
          "output_type": "display_data",
          "data": {
            "image/png": "[encoded data removed]",
            "text/plain": [
              "<Figure size 432x288 with 1 Axes>"
            ]
          },
          "metadata": {
            "tags": [],
            "needs_background": "light"
          }
        },
        {
          "output_type": "stream",
          "text": [
            "==========================================\n",
            "          Escolha uma das opções          \n",
            "==========================================\n",
            "  [1]  -  Definir parâmetros \n",
            "  [2]  -  Selecionar tipo de forma onda\n",
            "  [3]  -  Sair do programa \n",
            " \n",
            "Opcao: 2\n",
            "++++++++++++++++++++++++++++++++++++++++++\n",
            "    2 – Selecionar tipo de forma onda     \n",
            "++++++++++++++++++++++++++++++++++++++++++\n",
            "  [1]  -  ONDA, DENTE DE SERRA. \n",
            "  [2]  -  ONDA, TRIANGULAR \n",
            "  [3]  -  ONDA, QUADRÁTICA \n",
            "  [4]  -  VOLTAR MENU PRINCIPAL\n",
            " \n",
            "Opcao: 1\n",
            "++++++++++++++++++++++++++++++++++++++++++\n",
            "        1  -  ONDA, DENTE DE SERRA.       \n",
            "++++++++++++++++++++++++++++++++++++++++++\n"
          ],
          "name": "stdout"
        },
        {
          "output_type": "display_data",
          "data": {
            "image/png": "[encoded data removed]",
            "text/plain": [
              "<Figure size 432x288 with 1 Axes>"
            ]
          },
          "metadata": {
            "tags": [],
            "needs_background": "light"
          }
        },
        {
          "output_type": "stream",
          "text": [
            "==========================================\n",
            "          Escolha uma das opções          \n",
            "==========================================\n",
            "  [1]  -  Definir parâmetros \n",
            "  [2]  -  Selecionar tipo de forma onda\n",
            "  [3]  -  Sair do programa \n",
            " \n"
          ],
          "name": "stdout"
        },
        {
          "output_type": "error",
          "ename": "KeyboardInterrupt",
          "evalue": "ignored",
          "traceback": [
            "\u001b[0;31m---------------------------------------------------------------------------\u001b[0m",
            "\u001b[0;31mKeyboardInterrupt\u001b[0m                         Traceback (most recent call last)",
            "\u001b[0;32m/usr/local/lib/python3.6/dist-packages/ipykernel/kernelbase.py\u001b[0m in \u001b[0;36m_input_request\u001b[0;34m(self, prompt, ident, parent, password)\u001b[0m\n\u001b[1;32m    728\u001b[0m             \u001b[0;32mtry\u001b[0m\u001b[0;34m:\u001b[0m\u001b[0;34m\u001b[0m\u001b[0;34m\u001b[0m\u001b[0m\n\u001b[0;32m--> 729\u001b[0;31m                 \u001b[0mident\u001b[0m\u001b[0;34m,\u001b[0m \u001b[0mreply\u001b[0m \u001b[0;34m=\u001b[0m \u001b[0mself\u001b[0m\u001b[0;34m.\u001b[0m\u001b[0msession\u001b[0m\u001b[0;34m.\u001b[0m\u001b[0mrecv\u001b[0m\u001b[0;34m(\u001b[0m\u001b[0mself\u001b[0m\u001b[0;34m.\u001b[0m\u001b[0mstdin_socket\u001b[0m\u001b[0;34m,\u001b[0m \u001b[0;36m0\u001b[0m\u001b[0;34m)\u001b[0m\u001b[0;34m\u001b[0m\u001b[0;34m\u001b[0m\u001b[0m\n\u001b[0m\u001b[1;32m    730\u001b[0m             \u001b[0;32mexcept\u001b[0m \u001b[0mException\u001b[0m\u001b[0;34m:\u001b[0m\u001b[0;34m\u001b[0m\u001b[0;34m\u001b[0m\u001b[0m\n",
            "\u001b[0;32m/usr/local/lib/python3.6/dist-packages/jupyter_client/session.py\u001b[0m in \u001b[0;36mrecv\u001b[0;34m(self, socket, mode, content, copy)\u001b[0m\n\u001b[1;32m    802\u001b[0m         \u001b[0;32mtry\u001b[0m\u001b[0;34m:\u001b[0m\u001b[0;34m\u001b[0m\u001b[0;34m\u001b[0m\u001b[0m\n\u001b[0;32m--> 803\u001b[0;31m             \u001b[0mmsg_list\u001b[0m \u001b[0;34m=\u001b[0m \u001b[0msocket\u001b[0m\u001b[0;34m.\u001b[0m\u001b[0mrecv_multipart\u001b[0m\u001b[0;34m(\u001b[0m\u001b[0mmode\u001b[0m\u001b[0;34m,\u001b[0m \u001b[0mcopy\u001b[0m\u001b[0;34m=\u001b[0m\u001b[0mcopy\u001b[0m\u001b[0;34m)\u001b[0m\u001b[0;34m\u001b[0m\u001b[0;34m\u001b[0m\u001b[0m\n\u001b[0m\u001b[1;32m    804\u001b[0m         \u001b[0;32mexcept\u001b[0m \u001b[0mzmq\u001b[0m\u001b[0;34m.\u001b[0m\u001b[0mZMQError\u001b[0m \u001b[0;32mas\u001b[0m \u001b[0me\u001b[0m\u001b[0;34m:\u001b[0m\u001b[0;34m\u001b[0m\u001b[0;34m\u001b[0m\u001b[0m\n",
            "\u001b[0;32m/usr/local/lib/python3.6/dist-packages/zmq/sugar/socket.py\u001b[0m in \u001b[0;36mrecv_multipart\u001b[0;34m(self, flags, copy, track)\u001b[0m\n\u001b[1;32m    474\u001b[0m         \"\"\"\n\u001b[0;32m--> 475\u001b[0;31m         \u001b[0mparts\u001b[0m \u001b[0;34m=\u001b[0m \u001b[0;34m[\u001b[0m\u001b[0mself\u001b[0m\u001b[0;34m.\u001b[0m\u001b[0mrecv\u001b[0m\u001b[0;34m(\u001b[0m\u001b[0mflags\u001b[0m\u001b[0;34m,\u001b[0m \u001b[0mcopy\u001b[0m\u001b[0;34m=\u001b[0m\u001b[0mcopy\u001b[0m\u001b[0;34m,\u001b[0m \u001b[0mtrack\u001b[0m\u001b[0;34m=\u001b[0m\u001b[0mtrack\u001b[0m\u001b[0;34m)\u001b[0m\u001b[0;34m]\u001b[0m\u001b[0;34m\u001b[0m\u001b[0;34m\u001b[0m\u001b[0m\n\u001b[0m\u001b[1;32m    476\u001b[0m         \u001b[0;31m# have first part already, only loop while more to receive\u001b[0m\u001b[0;34m\u001b[0m\u001b[0;34m\u001b[0m\u001b[0;34m\u001b[0m\u001b[0m\n",
            "\u001b[0;32mzmq/backend/cython/socket.pyx\u001b[0m in \u001b[0;36mzmq.backend.cython.socket.Socket.recv\u001b[0;34m()\u001b[0m\n",
            "\u001b[0;32mzmq/backend/cython/socket.pyx\u001b[0m in \u001b[0;36mzmq.backend.cython.socket.Socket.recv\u001b[0;34m()\u001b[0m\n",
            "\u001b[0;32mzmq/backend/cython/socket.pyx\u001b[0m in \u001b[0;36mzmq.backend.cython.socket._recv_copy\u001b[0;34m()\u001b[0m\n",
            "\u001b[0;32m/usr/local/lib/python3.6/dist-packages/zmq/backend/cython/checkrc.pxd\u001b[0m in \u001b[0;36mzmq.backend.cython.checkrc._check_rc\u001b[0;34m()\u001b[0m\n",
            "\u001b[0;31mKeyboardInterrupt\u001b[0m: ",
            "\nDuring handling of the above exception, another exception occurred:\n",
            "\u001b[0;31mKeyboardInterrupt\u001b[0m                         Traceback (most recent call last)",
            "\u001b[0;32m<ipython-input-1-13c2b1f01502>\u001b[0m in \u001b[0;36m<module>\u001b[0;34m()\u001b[0m\n\u001b[1;32m     27\u001b[0m   \u001b[0mprint\u001b[0m\u001b[0;34m(\u001b[0m\u001b[0;34m\"  [3]  -  Sair do programa \"\u001b[0m\u001b[0;34m)\u001b[0m\u001b[0;34m\u001b[0m\u001b[0;34m\u001b[0m\u001b[0m\n\u001b[1;32m     28\u001b[0m   \u001b[0mprint\u001b[0m\u001b[0;34m(\u001b[0m\u001b[0;34m\" \"\u001b[0m\u001b[0;34m)\u001b[0m\u001b[0;34m\u001b[0m\u001b[0;34m\u001b[0m\u001b[0m\n\u001b[0;32m---> 29\u001b[0;31m   \u001b[0mres\u001b[0m \u001b[0;34m=\u001b[0m \u001b[0mint\u001b[0m\u001b[0;34m(\u001b[0m\u001b[0minput\u001b[0m\u001b[0;34m(\u001b[0m\u001b[0;34m\"Opcao: \"\u001b[0m\u001b[0;34m)\u001b[0m\u001b[0;34m)\u001b[0m\u001b[0;34m\u001b[0m\u001b[0;34m\u001b[0m\u001b[0m\n\u001b[0m\u001b[1;32m     30\u001b[0m \u001b[0;34m\u001b[0m\u001b[0m\n\u001b[1;32m     31\u001b[0m   \u001b[0;32mif\u001b[0m \u001b[0mres\u001b[0m \u001b[0;34m==\u001b[0m \u001b[0;36m1\u001b[0m\u001b[0;34m:\u001b[0m\u001b[0;34m\u001b[0m\u001b[0;34m\u001b[0m\u001b[0m\n",
            "\u001b[0;32m/usr/local/lib/python3.6/dist-packages/ipykernel/kernelbase.py\u001b[0m in \u001b[0;36mraw_input\u001b[0;34m(self, prompt)\u001b[0m\n\u001b[1;32m    702\u001b[0m             \u001b[0mself\u001b[0m\u001b[0;34m.\u001b[0m\u001b[0m_parent_ident\u001b[0m\u001b[0;34m,\u001b[0m\u001b[0;34m\u001b[0m\u001b[0;34m\u001b[0m\u001b[0m\n\u001b[1;32m    703\u001b[0m             \u001b[0mself\u001b[0m\u001b[0;34m.\u001b[0m\u001b[0m_parent_header\u001b[0m\u001b[0;34m,\u001b[0m\u001b[0;34m\u001b[0m\u001b[0;34m\u001b[0m\u001b[0m\n\u001b[0;32m--> 704\u001b[0;31m             \u001b[0mpassword\u001b[0m\u001b[0;34m=\u001b[0m\u001b[0;32mFalse\u001b[0m\u001b[0;34m,\u001b[0m\u001b[0;34m\u001b[0m\u001b[0;34m\u001b[0m\u001b[0m\n\u001b[0m\u001b[1;32m    705\u001b[0m         )\n\u001b[1;32m    706\u001b[0m \u001b[0;34m\u001b[0m\u001b[0m\n",
            "\u001b[0;32m/usr/local/lib/python3.6/dist-packages/ipykernel/kernelbase.py\u001b[0m in \u001b[0;36m_input_request\u001b[0;34m(self, prompt, ident, parent, password)\u001b[0m\n\u001b[1;32m    732\u001b[0m             \u001b[0;32mexcept\u001b[0m \u001b[0mKeyboardInterrupt\u001b[0m\u001b[0;34m:\u001b[0m\u001b[0;34m\u001b[0m\u001b[0;34m\u001b[0m\u001b[0m\n\u001b[1;32m    733\u001b[0m                 \u001b[0;31m# re-raise KeyboardInterrupt, to truncate traceback\u001b[0m\u001b[0;34m\u001b[0m\u001b[0;34m\u001b[0m\u001b[0;34m\u001b[0m\u001b[0m\n\u001b[0;32m--> 734\u001b[0;31m                 \u001b[0;32mraise\u001b[0m \u001b[0mKeyboardInterrupt\u001b[0m\u001b[0;34m\u001b[0m\u001b[0;34m\u001b[0m\u001b[0m\n\u001b[0m\u001b[1;32m    735\u001b[0m             \u001b[0;32melse\u001b[0m\u001b[0;34m:\u001b[0m\u001b[0;34m\u001b[0m\u001b[0;34m\u001b[0m\u001b[0m\n\u001b[1;32m    736\u001b[0m                 \u001b[0;32mbreak\u001b[0m\u001b[0;34m\u001b[0m\u001b[0;34m\u001b[0m\u001b[0m\n",
            "\u001b[0;31mKeyboardInterrupt\u001b[0m: "
          ]
        }
      ]
    }
  ]
}