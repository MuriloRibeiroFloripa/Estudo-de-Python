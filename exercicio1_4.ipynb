{
  "nbformat": 4,
  "nbformat_minor": 0,
  "metadata": {
    "colab": {
      "name": "exercicio1_4.ipynb",
      "provenance": [],
      "collapsed_sections": [],
      "authorship_tag": "ABX9TyPa9Zg3S+T9I/CUzzP5Mrk2",
      "include_colab_link": true
    },
    "kernelspec": {
      "name": "python3",
      "display_name": "Python 3"
    }
  },
  "cells": [
    {
      "cell_type": "markdown",
      "metadata": {
        "id": "view-in-github",
        "colab_type": "text"
      },
      "source": [
        "<a href=\"https://colab.research.google.com/github/murilosenai/Estudo-de-Python/blob/master/exercicio1_4.ipynb\" target=\"_parent\"><img src=\"https://colab.research.google.com/assets/colab-badge.svg\" alt=\"Open In Colab\"/></a>"
      ]
    },
    {
      "cell_type": "code",
      "metadata": {
        "id": "Bq8rWNKEZtt7",
        "colab_type": "code",
        "colab": {
          "base_uri": "https://localhost:8080/",
          "height": 153
        },
        "outputId": "bb7e1c61-8452-4442-8659-5e5e1d2a5d4b"
      },
      "source": [
        "# Leia os dois catetos de um triângulo e exiba o valor da hipotenusa.\n",
        "import os\n",
        "\n",
        "\n",
        "CO = float (input(print(\"Escreva o comprimento do cateto oposto: \")))\n",
        "CA = float (input(print(\"Entre com comprimento do cateto adjacente cateto: \")))\n",
        "\n",
        "hi = (CO ** 2 + CA ** 2) ** (1/2)\n",
        "print ('A hipotenusa vai medir {:.2f}'.format(hi))\n",
        "\n",
        "print(\"\")\n",
        "print(\"\")\n",
        "os.system(\"pause\")"
      ],
      "execution_count": null,
      "outputs": [
        {
          "output_type": "stream",
          "text": [
            "Escreva o comprimento do cateto oposto: \n",
            "2\n",
            "Entre com comprimento do cateto adjacente cateto: \n",
            "3\n",
            "A hipotenusa vai medir 3.61\n",
            "\n",
            "\n"
          ],
          "name": "stdout"
        },
        {
          "output_type": "execute_result",
          "data": {
            "text/plain": [
              "32512"
            ]
          },
          "metadata": {
            "tags": []
          },
          "execution_count": 1
        }
      ]
    }
  ]
}