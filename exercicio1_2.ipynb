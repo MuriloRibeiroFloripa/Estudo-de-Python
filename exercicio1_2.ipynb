{
  "nbformat": 4,
  "nbformat_minor": 0,
  "metadata": {
    "colab": {
      "name": "exercicio1_2.ipynb",
      "provenance": [],
      "collapsed_sections": [],
      "authorship_tag": "ABX9TyP8QssFCZ0eeGBp7sexl3QS",
      "include_colab_link": true
    },
    "kernelspec": {
      "name": "python3",
      "display_name": "Python 3"
    }
  },
  "cells": [
    {
      "cell_type": "markdown",
      "metadata": {
        "id": "view-in-github",
        "colab_type": "text"
      },
      "source": [
        "<a href=\"https://colab.research.google.com/github/murilosenai/Estudo-de-Python/blob/master/exercicio1_2.ipynb\" target=\"_parent\"><img src=\"https://colab.research.google.com/assets/colab-badge.svg\" alt=\"Open In Colab\"/></a>"
      ]
    },
    {
      "cell_type": "code",
      "metadata": {
        "id": "IdO6g2gUP23E",
        "colab_type": "code",
        "colab": {
          "base_uri": "https://localhost:8080/",
          "height": 136
        },
        "outputId": "89d96454-ac0e-4576-9f11-97edfbeee824"
      },
      "source": [
        "# Leia dois números e apresente o resultado da soma, subtração,\n",
        "# multiplicação e divisão entre eles.\n",
        "\n",
        "import os\n",
        "\n",
        "n1=float(input(\"Digite N1 \"))\n",
        "n2=float(input(\"Digite N2 \"))\n",
        "soma=n1+n2\n",
        "sub=n1-n2\n",
        "mult=n1*n2\n",
        "div=n1/n2\n",
        "print(\"Soma = %.2f\" %soma)\n",
        "print(\"Subtração = %.2f\" %sub)\n",
        "print(\"Multiplicação = %.2f\" %mult)\n",
        "print(\"Divisão = %.2f\" %div)\n",
        "os.system(\"pause\")\n"
      ],
      "execution_count": null,
      "outputs": [
        {
          "output_type": "stream",
          "text": [
            "Digite N1 5\n",
            "Digite N2 5\n",
            "Soma = 10.00\n",
            "Subtração = 0.00\n",
            "Multiplicação = 25.00\n",
            "Divisão = 1.00\n"
          ],
          "name": "stdout"
        },
        {
          "output_type": "execute_result",
          "data": {
            "text/plain": [
              "32512"
            ]
          },
          "metadata": {
            "tags": []
          },
          "execution_count": 19
        }
      ]
    }
  ]
}