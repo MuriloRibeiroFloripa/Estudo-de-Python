{
  "nbformat": 4,
  "nbformat_minor": 0,
  "metadata": {
    "colab": {
      "name": "Dash.ipynb",
      "provenance": [],
      "collapsed_sections": [],
      "authorship_tag": "ABX9TyPnyyyXuK2ZwgvuSdOd8Q2l",
      "include_colab_link": true
    },
    "kernelspec": {
      "name": "python3",
      "display_name": "Python 3"
    }
  },
  "cells": [
    {
      "cell_type": "markdown",
      "metadata": {
        "id": "view-in-github",
        "colab_type": "text"
      },
      "source": [
        "<a href=\"https://colab.research.google.com/github/murilosenai/Estudo-de-Python/blob/master/Dash.ipynb\" target=\"_parent\"><img src=\"https://colab.research.google.com/assets/colab-badge.svg\" alt=\"Open In Colab\"/></a>"
      ]
    },
    {
      "cell_type": "code",
      "metadata": {
        "id": "yO0f5gGt8t3S",
        "colab_type": "code",
        "colab": {
          "base_uri": "https://localhost:8080/",
          "height": 221
        },
        "outputId": "479e8a7f-f117-49a4-9442-615d51b592e7"
      },
      "source": [
        "# Para instalar no colab:\n",
        "!pip install -q dash\n",
        "!pip install -q dash_core_components\n",
        "!pip install -q dash_html_components\n",
        "!pip install -q dash_table\n"
      ],
      "execution_count": 1,
      "outputs": [
        {
          "output_type": "stream",
          "text": [
            "\u001b[K     |████████████████████████████████| 71kB 2.0MB/s \n",
            "\u001b[K     |████████████████████████████████| 1.2MB 7.2MB/s \n",
            "\u001b[K     |████████████████████████████████| 3.4MB 18.4MB/s \n",
            "\u001b[K     |████████████████████████████████| 194kB 38.8MB/s \n",
            "\u001b[K     |████████████████████████████████| 1.8MB 43.8MB/s \n",
            "\u001b[K     |████████████████████████████████| 358kB 47.3MB/s \n",
            "\u001b[?25h  Building wheel for dash (setup.py) ... \u001b[?25l\u001b[?25hdone\n",
            "  Building wheel for flask-compress (setup.py) ... \u001b[?25l\u001b[?25hdone\n",
            "  Building wheel for dash-renderer (setup.py) ... \u001b[?25l\u001b[?25hdone\n",
            "  Building wheel for dash-core-components (setup.py) ... \u001b[?25l\u001b[?25hdone\n",
            "  Building wheel for dash-html-components (setup.py) ... \u001b[?25l\u001b[?25hdone\n",
            "  Building wheel for dash-table (setup.py) ... \u001b[?25l\u001b[?25hdone\n"
          ],
          "name": "stdout"
        }
      ]
    },
    {
      "cell_type": "code",
      "metadata": {
        "id": "1EjRW1Pkf7cT",
        "colab_type": "code",
        "colab": {
          "base_uri": "https://localhost:8080/",
          "height": 238
        },
        "outputId": "396a4170-04ca-4b27-cced-29c673fd5c7f"
      },
      "source": [
        "# Instalar também o ngrok para rodar no background:\n",
        "\n",
        "!wget https://bin.equinox.io/c/4VmDzA7iaHb/ngrok-stable-linux-amd64.zip\n",
        "!unzip ngrok-stable-linux-amd64.zip #deixa disponivel o arquivo dentro do servidor do google"
      ],
      "execution_count": 2,
      "outputs": [
        {
          "output_type": "stream",
          "text": [
            "--2020-07-15 15:52:53--  https://bin.equinox.io/c/4VmDzA7iaHb/ngrok-stable-linux-amd64.zip\n",
            "Resolving bin.equinox.io (bin.equinox.io)... 34.197.140.245, 18.214.66.67, 34.192.84.136, ...\n",
            "Connecting to bin.equinox.io (bin.equinox.io)|34.197.140.245|:443... connected.\n",
            "HTTP request sent, awaiting response... 200 OK\n",
            "Length: 13773305 (13M) [application/octet-stream]\n",
            "Saving to: ‘ngrok-stable-linux-amd64.zip’\n",
            "\n",
            "ngrok-stable-linux- 100%[===================>]  13.13M  6.47MB/s    in 2.0s    \n",
            "\n",
            "2020-07-15 15:52:55 (6.47 MB/s) - ‘ngrok-stable-linux-amd64.zip’ saved [13773305/13773305]\n",
            "\n",
            "Archive:  ngrok-stable-linux-amd64.zip\n",
            "  inflating: ngrok                   \n"
          ],
          "name": "stdout"
        }
      ]
    },
    {
      "cell_type": "code",
      "metadata": {
        "id": "zqUMG4rOEsW1",
        "colab_type": "code",
        "colab": {}
      },
      "source": [
        "# Como o dash utiliza internamente o flask, não conseguimos associar\n",
        "# diretamente o ngrok ao app do flask. Por isso rodamos no background o\n",
        "# ngrok com o comando:\n",
        "\n",
        "def start_ngrok(): # criado uma função para chamar o ngrok\n",
        "  get_ipython().system_raw( './ngrok http 8050 &' ) # quando inicializar o servidor ele vai http na porta 8050 nesta porta vai rodar o ngrok.\n",
        "  \n",
        "  # ● Desta forma é criado um túnel utilizando o ngrok e a porta 8050 para permitir\n",
        "  # o acesso ao servidor do flask fora do localhost.\n",
        "  # ● Para verificar qual o link do ngrok para acessar o servidor utilize o comando:\n",
        "  \n",
        "  !curl -s http://localhost:4040/api/tunnels | python3 -c \\\n",
        "  \"import sys, json; print(json.load(sys.stdin)['tunnels'][0]['public_url'])\" #Quando inicializar servidor http nesta porta, ele roda dash e por tras tem o flash"
      ],
      "execution_count": 3,
      "outputs": []
    },
    {
      "cell_type": "code",
      "metadata": {
        "id": "A9uo0EIqO4oR",
        "colab_type": "code",
        "colab": {}
      },
      "source": [
        "start_ngrok()"
      ],
      "execution_count": null,
      "outputs": []
    },
    {
      "cell_type": "code",
      "metadata": {
        "id": "ScnneGifFFjP",
        "colab_type": "code",
        "colab": {
          "base_uri": "https://localhost:8080/",
          "height": 204
        },
        "outputId": "48e50184-8670-41e7-f08b-74ecf44a9d45"
      },
      "source": [
        "# estrutura basica\n",
        "\n",
        "import dash\n",
        "import dash_core_components as dcc\n",
        "import dash_html_components as html\n",
        "\n",
        "app = dash.Dash(__name__)\n",
        "app.layout = html.Div(children=[\n",
        "                                html.H1(children='Hello Dash')\n",
        "                        ]) \n",
        "\n",
        "if __name__ == '__main__':\n",
        "  app.run_server()"
      ],
      "execution_count": 4,
      "outputs": [
        {
          "output_type": "stream",
          "text": [
            "Dash is running on http://127.0.0.1:8050/\n",
            "\n",
            " Warning: This is a development server. Do not use app.run_server\n",
            " in production, use a production WSGI server like gunicorn instead.\n",
            "\n",
            " * Serving Flask app \"__main__\" (lazy loading)\n",
            " * Environment: production\n",
            "\u001b[31m   WARNING: This is a development server. Do not use it in a production deployment.\u001b[0m\n",
            "\u001b[2m   Use a production WSGI server instead.\u001b[0m\n",
            " * Debug mode: off\n"
          ],
          "name": "stdout"
        },
        {
          "output_type": "stream",
          "text": [
            " * Running on http://127.0.0.1:8050/ (Press CTRL+C to quit)\n"
          ],
          "name": "stderr"
        }
      ]
    },
    {
      "cell_type": "code",
      "metadata": {
        "id": "5tUYvZmaF7Lg",
        "colab_type": "code",
        "colab": {
          "base_uri": "https://localhost:8080/",
          "height": 34
        },
        "outputId": "b2902152-8560-4e76-a1f4-27a100684ae6"
      },
      "source": [
        "# Exemplo 1\n",
        "\n",
        "%%writefile my_app1.py\n",
        "\n",
        "import dash\n",
        "import dash_core_components as dcc\n",
        "import dash_html_components as html\n",
        "\n",
        "external_stylesheets = ['https://codepen.io/chriddyp/pen/bWLwgP.css']\n",
        "app = dash.Dash(__name__, external_stylesheets=external_stylesheets)"
      ],
      "execution_count": 5,
      "outputs": [
        {
          "output_type": "stream",
          "text": [
            "Writing my_app1.py\n"
          ],
          "name": "stdout"
        }
      ]
    },
    {
      "cell_type": "code",
      "metadata": {
        "id": "e30S0XGtGkvb",
        "colab_type": "code",
        "colab": {}
      },
      "source": [
        "app.layout = html.Div(children=[\n",
        "  html.H1(children='Hello Dash'),\n",
        "  html.Div(children='''\n",
        "  Dash: A web application framework for Python.\n",
        "  '''),\n",
        "  \n",
        "  dcc.Graph(\n",
        "      id='example-graph',\n",
        "      figure={\n",
        "          'data': [\n",
        "                   {'x': [1, 2, 3], 'y': [4, 1, 2], 'type': 'bar', 'name': 'SF'},\n",
        "                   {'x': [1, 2, 3], 'y': [2, 4, 5], 'type': 'bar', 'name': u'Montréal'},\n",
        "                   ],\n",
        "              'layout': {\n",
        "                  'title': 'Dash Data Visualization'\n",
        "                  }\n",
        "              }\n",
        "            )\n",
        "  ])\n",
        "if __name__ == '__main__':\n",
        "  app.run_server(debug=True)"
      ],
      "execution_count": null,
      "outputs": []
    },
    {
      "cell_type": "code",
      "metadata": {
        "id": "ucGETnicGcdd",
        "colab_type": "code",
        "colab": {}
      },
      "source": [
        "!python my_app1.py"
      ],
      "execution_count": 7,
      "outputs": []
    },
    {
      "cell_type": "code",
      "metadata": {
        "id": "wnTnJEWyPYdQ",
        "colab_type": "code",
        "colab": {}
      },
      "source": [
        "# Exemplo 2\n",
        "\n",
        "%%writefile my_app2.py\n",
        "\n",
        "# -*- coding: utf-8 -*-\n",
        "\n",
        "import dash\n",
        "import dash_core_components as dcc\n",
        "import dash_html_components as html\n",
        "\n",
        "external_stylesheets = ['https://codepen.io/chriddyp/pen/bWLwgP.css']\n",
        "app = dash.Dash(__name__, external_stylesheets=external_stylesheets)\n",
        "\n",
        "colors = {\n",
        "    'background': '#111111',\n",
        "    'text': '#7FDBFF'\n",
        "}\n",
        "\n",
        "app.layout = html.Div(style={'backgroundColor': colors['background']}, children=[\n",
        "                                                                                 html.H1(\n",
        "                                                                                     children='Hello Dash',\n",
        "                                                                                     style={\n",
        "                                                                                         'textAlign': 'center',\n",
        "                                                                                         'color': colors['text']\n",
        "                                                                                         }                                                                                         \n",
        "),\n",
        "\n",
        "html.Div(children='Dash: A web application framework for Python.', style={\n",
        "    'textAlign': 'center',\n",
        "    'color': colors['text']\n",
        "}),\n",
        "\n",
        "dcc.Graph(\n",
        "    id='example-graph-2',\n",
        "    figure={\n",
        "        'data': [\n",
        "                 {'x': [1, 2, 3], 'y': [4, 1, 2], 'type': 'bar', 'name': 'SF'},\n",
        "                 {'x': [1, 2, 3], 'y': [2, 4, 5], 'type': 'bar', 'name': u'Montréal'},\n",
        "],\n",
        "\n",
        "'layout': {\n",
        "    'plot_bgcolor': colors['background'],\n",
        "    'paper_bgcolor': colors['background'],\n",
        "    'font': {\n",
        "        'color': colors['text']\n",
        "        }\n",
        "      }\n",
        "    }\n",
        "  )\n",
        "])\n",
        "\n",
        "if __name__ == '__main__':\n",
        "  app.run_server(debug=True)\n",
        "\n"
      ],
      "execution_count": null,
      "outputs": []
    },
    {
      "cell_type": "code",
      "metadata": {
        "id": "sOMZrATGXAXA",
        "colab_type": "code",
        "colab": {}
      },
      "source": [
        "# para executar o Execução 2 temos que rodar ngrok\n",
        "# ● É necessário executar novamente os comandos novamente:\n",
        "\n",
        "def start_ngrok():\n",
        "  #executa o ngrok no background\n",
        "  get_ipython().system_raw('./ngrok http 8050 &')\n",
        "\n",
        "  #exibe o link do ngrok\n",
        "  !curl -s http://localhost:4040/api/tunnels | python3 -c \\\n",
        "      \"import sys, json; print(json.load(sys.stdin)['tunnels'][0]['public_url'])\"\n"
      ],
      "execution_count": 9,
      "outputs": []
    },
    {
      "cell_type": "code",
      "metadata": {
        "id": "dMVu2inxUWvE",
        "colab_type": "code",
        "colab": {}
      },
      "source": [
        "start_ngrok()\n",
        "!python my_app2.py"
      ],
      "execution_count": null,
      "outputs": []
    },
    {
      "cell_type": "code",
      "metadata": {
        "id": "UbSXsBOhYjdm",
        "colab_type": "code",
        "colab": {}
      },
      "source": [
        "# exemplo 3\n",
        "\n",
        "%%writefile my_app3.py\n",
        "\n",
        "import dash\n",
        "import dash_core_components as dcc\n",
        "import dash_html_components as html\n",
        "import pandas as pd\n",
        "\n",
        "external_stylesheets = ['https://codepen.io/chriddyp/pen/bWLwgP.css']\n",
        "\n",
        "app = dash.Dash(__name__, external_stylesheets=external_stylesheets)\n",
        "\n",
        "df = pd.read_csv('https://gist.githubusercontent.com/chriddyp/5d1ea79569ed194d432e56108a04d188/raw/a9f9e8076b837d541398e999dcbac2b2826a81f8/gdp-life-exp-2007.csv')\n",
        "\n",
        "app.layout = html.Div([\n",
        "                       dcc.Graph(\n",
        "                           id='life-exp-vs-gdp',\n",
        "                           figure={\n",
        "                               'data': [\n",
        "                                        dict(\n",
        "                                            x=df[df['continent'] == i]['gdp per capita'],\n",
        "                                             y=df[df['continent'] == i]['life expectancy'],\n",
        "                                             text=df[df['continent'] == i]['country'],\n",
        "                                             mode='markers',\n",
        "                                             opacity=0.7,\n",
        "                                             marker={\n",
        "                                                 'size': 15,\n",
        "                                                 'line': {'width': 0.5, 'color': 'white'}\n",
        "                                                 },\n",
        "                                             name=i\n",
        "                                             ) for i in df.continent.unique()\n",
        "                                             ],\n",
        "                                   'layout': dict(\n",
        "                                       xaxis={'type': 'log', 'title': 'GDP Per Capita'},\n",
        "                                       yaxis={'title': 'Life Expectancy'},\n",
        "                                       margin={'l': 40, 'b': 40, 't': 10, 'r': 10},\n",
        "                                       legend={'x': 0, 'y': 1},\n",
        "                                       hovermode='closest'\n",
        "                                       )\n",
        "                                   }\n",
        "                                 )\n",
        "                       ])\n",
        "\n",
        "if __name__ == '__main__':\n",
        "  app.run_server(debug=True)\n",
        "\n"
      ],
      "execution_count": null,
      "outputs": []
    },
    {
      "cell_type": "code",
      "metadata": {
        "id": "IEu0R6fAZ3CP",
        "colab_type": "code",
        "colab": {}
      },
      "source": [
        "# executa o ngrok no background, chamando a função\n",
        "start_ngrok()\n",
        "\n",
        "!python my_app3.py"
      ],
      "execution_count": null,
      "outputs": []
    },
    {
      "cell_type": "code",
      "metadata": {
        "id": "asYb0VhrmhKy",
        "colab_type": "code",
        "colab": {}
      },
      "source": [
        "# exemplo 4\n",
        "\n",
        "%%writefile my_app4.py\n",
        "\n",
        "# -*- coding: utf-8 -*-\n",
        "import dash\n",
        "import dash_core_components as dcc\n",
        "import dash_html_components as html\n",
        "\n",
        "external_stylesheets = [ 'https://codepen.io/chriddyp/pen/bWLwgP.css' ]\n",
        "app = dash.Dash(__name__, external_stylesheets=external_stylesheets)\n",
        "app.layout = html.Div([\n",
        "                       html.Label( 'Dropdown' ),\n",
        "                       dcc.Dropdown(\n",
        "                           options=[\n",
        "                                    { 'label': 'New York City' , 'value': 'NYC'},\n",
        "                                    { 'label': u'Montréal' , 'value': 'MTL'},\n",
        "                                    { 'label': 'San Francisco' , 'value': 'SF'}\n",
        "                                    ],\n",
        "                            value= 'MTL'\n",
        "                        ),\n",
        "                       \n",
        "                       html.Label( 'Multi-Select Dropdown' ),\n",
        "                       dcc.Dropdown(\n",
        "                           options=[\n",
        "                                    { 'label': 'New York City' , 'value': 'NYC'},\n",
        "                                    { 'label': u'Montréal' , 'value': 'MTL'},\n",
        "                                    { 'label': 'San Francisco' , 'value': 'SF'}\n",
        "                            ],\n",
        "                            \n",
        "                            value=[ 'MTL', 'SF'],\n",
        "                            multi= True\n",
        "                          ),\n",
        "                       \n",
        "                       html.Label( 'Radio Items' ),\n",
        "                       dcc.RadioItems(\n",
        "                           options=[\n",
        "                                    { 'label': 'New York City' , 'value': 'NYC'},\n",
        "                                    { 'label': u'Montréal' , 'value': 'MTL'},\n",
        "                                    { 'label': 'San Francisco' , 'value': 'SF'}\n",
        "                            ],\n",
        "                            \n",
        "                            value= 'MTL'\n",
        "                        ),\n",
        "                       \n",
        "                       html.Label( 'Checkboxes' ),\n",
        "                       dcc.Checklist(\n",
        "                           options=[\n",
        "                                    { 'label': 'New York City' , 'value': 'NYC'},\n",
        "                                    { 'label': u'Montréal' , 'value': 'MTL'},\n",
        "                                    { 'label': 'San Francisco' , 'value': 'SF'}\n",
        "                            ],\n",
        "                            \n",
        "                            value=[ 'MTL', 'SF']\n",
        "                        ),\n",
        "                       \n",
        "                       html.Label( 'Text Input' ),\n",
        "                       dcc.Input(value= 'MTL', type='text'),\n",
        "                       html.Label( 'Slider' ),\n",
        "                       dcc.Slider(\n",
        "                           min=0,\n",
        "                           max=9,\n",
        "                           marks={i: 'Label {}' .format(i) if i == 1 else str(i) for i in range(1, 6)},\n",
        "                           value= 5,\n",
        "                        ),\n",
        "], style={ 'columnCount' : 2})\n",
        "\n",
        "if __name__ == '__main__' :\n",
        "  app.run_server(debug= True)\n"
      ],
      "execution_count": null,
      "outputs": []
    },
    {
      "cell_type": "code",
      "metadata": {
        "id": "IPEftwbeobch",
        "colab_type": "code",
        "colab": {}
      },
      "source": [
        "# Para executar, inicie o ngrok e execute o script salvo:\n",
        "\n",
        "start_ngrok()\n",
        "!python my_app4.py"
      ],
      "execution_count": null,
      "outputs": []
    },
    {
      "cell_type": "code",
      "metadata": {
        "id": "TR1lLJEAvH8M",
        "colab_type": "code",
        "colab": {
          "base_uri": "https://localhost:8080/",
          "height": 34
        },
        "outputId": "a5c6150c-e1cf-4de0-cb38-dd9b55c234e1"
      },
      "source": [
        "# Callbacks - Exemplo 5\n",
        "\n",
        "%%writefile my_app5.py\n",
        "\n",
        "import dash\n",
        "import dash_core_components as dcc\n",
        "import dash_html_components as html\n",
        "from dash.dependencies import Input, Output\n",
        "\n",
        "external_stylesheets = ['https://codepen.io/chriddyp/pen/bWLwgP.css']\n",
        "app = dash.Dash(__name__, external_stylesheets=external_stylesheets)\n",
        "app.layout = html.Div([\n",
        "                       dcc.Input(id='my-id', value='Escreva aqui:', type='text'),\n",
        "                       html.Div(id='my-div')\n",
        "])\n",
        "\n",
        "@app.callback(\n",
        "    Output(component_id='my-div', component_property='children'),\n",
        "    [Input(component_id='my-id', component_property='value')]\n",
        ")\n",
        "\n",
        "def update_output_div(input_value):\n",
        "  return 'You\\'ve entered \"{}\"'.format(input_value)\n",
        "\n",
        "if __name__ == '__main__':\n",
        "  app.run_server(debug=True)"
      ],
      "execution_count": null,
      "outputs": [
        {
          "output_type": "stream",
          "text": [
            "Writing my_app5.py\n"
          ],
          "name": "stdout"
        }
      ]
    },
    {
      "cell_type": "code",
      "metadata": {
        "id": "AxThZwM5vs5_",
        "colab_type": "code",
        "colab": {}
      },
      "source": [
        "start_ngrok()\n",
        "!python my_app5.py"
      ],
      "execution_count": null,
      "outputs": []
    },
    {
      "cell_type": "code",
      "metadata": {
        "id": "11m-cXkSyXu5",
        "colab_type": "code",
        "colab": {
          "base_uri": "https://localhost:8080/",
          "height": 34
        },
        "outputId": "639dd57d-de1f-4340-90b4-5421a49b665e"
      },
      "source": [
        "# Callbacks - Exemplo 6 \n",
        "\n",
        "%%writefile my_app6.py\n",
        "\n",
        "import dash\n",
        "import dash_core_components as dcc\n",
        "import dash_html_components as html\n",
        "from dash.dependencies import Input, Output\n",
        "\n",
        "external_stylesheets = ['https://codepen.io/chriddyp/pen/bWLwgP.css']\n",
        "app = dash.Dash(__name__, external_stylesheets=external_stylesheets)\n",
        "app.layout = html.Div([\n",
        "                       dcc.Input(\n",
        "                           id='num-multi',\n",
        "                           type='number',\n",
        "                           value=5\n",
        "                           ),\n",
        "                        html.Table([\n",
        "                                    html.Tr([html.Td(['x', html.Sup(2)]), html.Td(id='square')]),\n",
        "                                    html.Tr([html.Td(['x', html.Sup(3)]), html.Td(id='cube')]),\n",
        "                                    html.Tr([html.Td([2, html.Sup('x')]), html.Td(id='twos')]),\n",
        "                                    html.Tr([html.Td([3, html.Sup('x')]), html.Td(id='threes')]),\n",
        "                                    html.Tr([html.Td(['x', html.Sup('x')]), html.Td(id='x^x')]),\n",
        "                                    ]),\n",
        "                       ])\n",
        "\n",
        "@app.callback(\n",
        "    [Output('square', 'children'),\n",
        "     Output('cube', 'children'),\n",
        "     Output('twos', 'children'),\n",
        "     Output('threes', 'children'),\n",
        "     Output('x^x', 'children')],\n",
        "     [Input('num-multi', 'value')])\n",
        "\n",
        "def callback_a(x):\n",
        "  return x**2, x**3, 2**x, 3**x, x**x\n",
        "\n",
        "if __name__ == '__main__':\n",
        "  app.run_server(debug=True)\n"
      ],
      "execution_count": null,
      "outputs": [
        {
          "output_type": "stream",
          "text": [
            "Writing my_app6.py\n"
          ],
          "name": "stdout"
        }
      ]
    },
    {
      "cell_type": "code",
      "metadata": {
        "id": "krdqerWgy1lR",
        "colab_type": "code",
        "colab": {}
      },
      "source": [
        "start_ngrok()\n",
        "!python my_app6.py"
      ],
      "execution_count": null,
      "outputs": []
    },
    {
      "cell_type": "code",
      "metadata": {
        "id": "XsGrN4p85xWQ",
        "colab_type": "code",
        "colab": {
          "base_uri": "https://localhost:8080/",
          "height": 34
        },
        "outputId": "88d9753c-d146-41ea-de78-56886c6fe139"
      },
      "source": [
        "# Integrando flask com dash\n",
        "\n",
        "%%writefile my_app7.py\n",
        "\n",
        "import flask\n",
        "import dash\n",
        "import dash_html_components as html\n",
        "\n",
        "server = flask.Flask(__name__)\n",
        "\n",
        "@server.route('/')\n",
        "def index():\n",
        "  return 'Hello Flask app'\n",
        "\n",
        "app = dash.Dash(\n",
        "    __name__,\n",
        "    server=server,\n",
        "    routes_pathname_prefix='/dash/'\n",
        ")\n",
        "      \n",
        "\n",
        "app.layout = html.Div(\"My Dash app\")\n",
        "\n",
        "if __name__ == '__main__':\n",
        "  app.run_server(debug=True)"
      ],
      "execution_count": null,
      "outputs": [
        {
          "output_type": "stream",
          "text": [
            "Overwriting my_app7.py\n"
          ],
          "name": "stdout"
        }
      ]
    },
    {
      "cell_type": "code",
      "metadata": {
        "id": "FiHAtpNJ6M5S",
        "colab_type": "code",
        "colab": {}
      },
      "source": [
        "start_ngrok()\n",
        "!python my_app7.py"
      ],
      "execution_count": null,
      "outputs": []
    }
  ]
}