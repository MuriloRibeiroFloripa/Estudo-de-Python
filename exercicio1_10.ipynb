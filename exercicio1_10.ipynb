{
  "nbformat": 4,
  "nbformat_minor": 0,
  "metadata": {
    "colab": {
      "name": "exercicio1_10.ipynb",
      "provenance": [],
      "collapsed_sections": [],
      "authorship_tag": "ABX9TyMHUKYIM0Wd14mnfht8Q8JE",
      "include_colab_link": true
    },
    "kernelspec": {
      "name": "python3",
      "display_name": "Python 3"
    }
  },
  "cells": [
    {
      "cell_type": "markdown",
      "metadata": {
        "id": "view-in-github",
        "colab_type": "text"
      },
      "source": [
        "<a href=\"https://colab.research.google.com/github/murilosenai/Estudo-de-Python/blob/master/exercicio1_10.ipynb\" target=\"_parent\"><img src=\"https://colab.research.google.com/assets/colab-badge.svg\" alt=\"Open In Colab\"/></a>"
      ]
    },
    {
      "cell_type": "code",
      "metadata": {
        "id": "yPU4uurJEz_b",
        "colab_type": "code",
        "colab": {
          "base_uri": "https://localhost:8080/",
          "height": 476
        },
        "outputId": "c6733e9a-bab6-416b-ba7b-f351f26c767c"
      },
      "source": [
        "# Leia um número entre 1 e 12 e imprima o nome do mês de acordo com o\n",
        "# número digitado. Informe um erro caso o número seja menor ou maior.\n",
        "\n",
        "import os\n",
        "\n",
        "mes = float \n",
        "\n",
        "while 1:\n",
        "  print(\"======================================\")\n",
        "  print(\"     Escolha um valor entre 1 a 12    \")\n",
        "  print(\"        Digite [0] para Sair!         \")\n",
        "  print(\"======================================\")\n",
        "  res = int(input(\"Opcao: \"))\n",
        "\n",
        "  if res == 1:\n",
        "    print (\"=================\")\n",
        "    print(\"   JANEIRO\")\n",
        "    print (\"=================\")\n",
        "  elif res == 2:\n",
        "    print (\"=================\")\n",
        "    print(\"   FEVEREIRO\")\n",
        "    print (\"=================\")\n",
        "  elif res == 3:\n",
        "    print (\"=================\")\n",
        "    print(\"   MARÇO\")\n",
        "    print (\"=================\")\n",
        "  elif res == 4:\n",
        "    print (\"=================\")\n",
        "    print(\"   ABRIL\")\n",
        "    print (\"=================\")\n",
        "  elif res == 5:\n",
        "    print (\"=================\")\n",
        "    print(\"   MAIO\")\n",
        "    print (\"=================\")\n",
        "  elif res == 6:\n",
        "    print (\"=================\")\n",
        "    print(\"   JUNHO\")\n",
        "    print (\"=================\")\n",
        "  elif res == 7:\n",
        "    print (\"=================\")\n",
        "    print(\"   JULHO\")\n",
        "    print (\"=================\")\n",
        "  elif res == 8:\n",
        "    print (\"=================\")\n",
        "    print(\"   AGOSTO\")\n",
        "    print (\"=================\")\n",
        "  elif res == 9:\n",
        "    print (\"=================\")\n",
        "    print(\"   SETEMBRO\")\n",
        "    print (\"=================\")\n",
        "  elif res == 10:\n",
        "    print (\"=================\")\n",
        "    print(\"   OUTUBRO\")\n",
        "    print (\"=================\")\n",
        "  elif res == 11:\n",
        "    print (\"=================\")\n",
        "    print(\"   NOVEMBRO\")\n",
        "    print (\"=================\")\n",
        "  elif res == 12:\n",
        "    print (\"=================\")\n",
        "    print(\"   DEZEMBRO\")\n",
        "    print (\"=================\")\n",
        "  \n",
        "  elif res == 0:\n",
        "    break;\n",
        "  else:\n",
        "      print(\"ERRO: A opção não se encontra defenida ! tente novamente!\")\n",
        "  \n",
        "  os.system(\"pause\")\n",
        "          \n",
        "\n"
      ],
      "execution_count": null,
      "outputs": [
        {
          "output_type": "stream",
          "text": [
            "==================================\n",
            "      Escolha um valor de 1 a 12  \n",
            "        Digite [0] para Sair!     \n",
            "==================================\n",
            "Opcao: 6\n",
            "=================\n",
            "   JUNHO\n",
            "=================\n",
            "==================================\n",
            "      Escolha um valor de 1 a 12  \n",
            "        Digite [0] para Sair!     \n",
            "==================================\n",
            "Opcao: 8\n",
            "=================\n",
            "   AGOSTO\n",
            "=================\n",
            "==================================\n",
            "      Escolha um valor de 1 a 12  \n",
            "        Digite [0] para Sair!     \n",
            "==================================\n",
            "Opcao: 13\n",
            "ERRO: A opção não se encontra defenida ! tente novamente!\n",
            "==================================\n",
            "      Escolha um valor de 1 a 12  \n",
            "        Digite [0] para Sair!     \n",
            "==================================\n",
            "Opcao: 0\n"
          ],
          "name": "stdout"
        }
      ]
    }
  ]
}