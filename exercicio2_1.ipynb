{
  "nbformat": 4,
  "nbformat_minor": 0,
  "metadata": {
    "colab": {
      "name": "exercicio2.1.ipynb",
      "provenance": [],
      "collapsed_sections": [],
      "authorship_tag": "ABX9TyOq5mscaaSEZUMHnoL5VZtk",
      "include_colab_link": true
    },
    "kernelspec": {
      "name": "python3",
      "display_name": "Python 3"
    }
  },
  "cells": [
    {
      "cell_type": "markdown",
      "metadata": {
        "id": "view-in-github",
        "colab_type": "text"
      },
      "source": [
        "<a href=\"https://colab.research.google.com/github/murilosenai/Estudo-de-Python/blob/master/exercicio2_1.ipynb\" target=\"_parent\"><img src=\"https://colab.research.google.com/assets/colab-badge.svg\" alt=\"Open In Colab\"/></a>"
      ]
    },
    {
      "cell_type": "code",
      "metadata": {
        "id": "5NUw_3d0Mj0X",
        "colab_type": "code",
        "colab": {
          "base_uri": "https://localhost:8080/",
          "height": 136
        },
        "outputId": "2122440e-a616-41ac-853d-acbfac7679c0"
      },
      "source": [
        "# Busque um item (String) em uma lista global e retorne o índice do item. Informe se o item não\n",
        "# foi encontrado utilizando uma função que imprima uma mensagem que não foi encontrado o item.\n",
        "import os\n",
        "\n",
        "lista = ['casa', 'martelo', 'ola', 'chinelo', 'dedo', \"copo\"]\n",
        "print (\"Lista = \",lista)\n",
        "valor = str(input(\"digite o valor que deseja busca na lista: \"))\n",
        "pos = -1\n",
        "for i in range(len(lista)-1,-1,-1):\n",
        "  resultado = valor in lista \n",
        "  if lista[i] == valor:\n",
        "    pos = i\n",
        "    print(pos,\" foi o índice do item encontrado\")\n",
        "if resultado == False:\n",
        "  print(\"não foi encontrado o item\")\n",
        "\n",
        "print()   \n",
        "print()\n",
        "print()\n",
        "os.system(\"pause\")\n",
        "\n",
        "  \n",
        "\n",
        "\n",
        "    \n",
        "    \n",
        "    \n",
        "\n",
        "    \n",
        "\n"
      ],
      "execution_count": null,
      "outputs": [
        {
          "output_type": "stream",
          "text": [
            "Lista =  ['casa', 'martelo', 'ola', 'chinelo', 'dedo', 'copo']\n",
            "digite o valor que deseja busca na lista: copo\n",
            "5  foi o índice do item encontrado\n",
            "\n",
            "\n",
            "\n"
          ],
          "name": "stdout"
        },
        {
          "output_type": "execute_result",
          "data": {
            "text/plain": [
              "32512"
            ]
          },
          "metadata": {
            "tags": []
          },
          "execution_count": 5
        }
      ]
    }
  ]
}