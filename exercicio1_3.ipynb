{
  "nbformat": 4,
  "nbformat_minor": 0,
  "metadata": {
    "colab": {
      "name": "exercicio1_3.ipynb",
      "provenance": [],
      "collapsed_sections": [],
      "authorship_tag": "ABX9TyP5IQj8cXq3aYUjMp4/RY1Y",
      "include_colab_link": true
    },
    "kernelspec": {
      "name": "python3",
      "display_name": "Python 3"
    }
  },
  "cells": [
    {
      "cell_type": "markdown",
      "metadata": {
        "id": "view-in-github",
        "colab_type": "text"
      },
      "source": [
        "<a href=\"https://colab.research.google.com/github/murilosenai/Estudo-de-Python/blob/master/exercicio1_3.ipynb\" target=\"_parent\"><img src=\"https://colab.research.google.com/assets/colab-badge.svg\" alt=\"Open In Colab\"/></a>"
      ]
    },
    {
      "cell_type": "code",
      "metadata": {
        "id": "enO4ZonhU1V4",
        "colab_type": "code",
        "colab": {
          "base_uri": "https://localhost:8080/",
          "height": 136
        },
        "outputId": "982912d7-a0fc-4560-de98-dbc9d15d155e"
      },
      "source": [
        "# Leia a temperatura em °C, converta para F° e exiba os dois valores.\n",
        "\n",
        "import os\n",
        "print(\"Converter de Celsius para Fahrenheit\")\n",
        "C = float (input(\"Entre com a temperatura em graus Celsius: \"))\n",
        "F = C * (9 / 5) + 32\n",
        "print(\"Valor em Fahrenheit: {0}°F\".format(F))\n",
        "print(\"%2.f Grau Celsius\" %C)\n",
        "print (\"\")\n",
        "print(\"\")\n",
        "os.system(\"pause\")"
      ],
      "execution_count": null,
      "outputs": [
        {
          "output_type": "stream",
          "text": [
            "Converter de Celsius para Fahrenheit\n",
            "Entre com a temperatura em graus Celsius: 22\n",
            "Valor em Fahrenheit: 71.6°F\n",
            "22 Grau Celsius\n",
            "\n",
            "\n"
          ],
          "name": "stdout"
        },
        {
          "output_type": "execute_result",
          "data": {
            "text/plain": [
              "32512"
            ]
          },
          "metadata": {
            "tags": []
          },
          "execution_count": 2
        }
      ]
    }
  ]
}