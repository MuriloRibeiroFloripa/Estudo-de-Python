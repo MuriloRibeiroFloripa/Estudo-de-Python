{
  "nbformat": 4,
  "nbformat_minor": 0,
  "metadata": {
    "colab": {
      "name": "exercicio6_2.ipynb",
      "provenance": [],
      "collapsed_sections": [],
      "authorship_tag": "ABX9TyMkXWYs8HpdaqRxnnxZ4D40",
      "include_colab_link": true
    },
    "kernelspec": {
      "name": "python3",
      "display_name": "Python 3"
    }
  },
  "cells": [
    {
      "cell_type": "markdown",
      "metadata": {
        "id": "view-in-github",
        "colab_type": "text"
      },
      "source": [
        "<a href=\"https://colab.research.google.com/github/murilosenai/Estudo-de-Python/blob/master/exercicio6_2.ipynb\" target=\"_parent\"><img src=\"https://colab.research.google.com/assets/colab-badge.svg\" alt=\"Open In Colab\"/></a>"
      ]
    },
    {
      "cell_type": "code",
      "metadata": {
        "id": "0aMHDxR7nuEw",
        "colab_type": "code",
        "colab": {}
      },
      "source": [
        "# !pip install flask\n",
        "# !pip install -q dash\n",
        "!pip install -q dash_core_components\n",
        "!pip install -q dash_html_components\n",
        "!pip install -q dash_table\n",
        "!pip install flask_ngrok"
      ],
      "execution_count": null,
      "outputs": []
    },
    {
      "cell_type": "code",
      "metadata": {
        "id": "c_Ajas7ZoKd9",
        "colab_type": "code",
        "colab": {}
      },
      "source": [
        "!wget https://bin.equinox.io/c/4VmDzA7iaHb/ngrok-stable-linux-amd64.zip\n",
        "!unzip ngrok-stable-linux-amd64.zip"
      ],
      "execution_count": null,
      "outputs": []
    },
    {
      "cell_type": "code",
      "metadata": {
        "id": "fvql6AUwoLPQ",
        "colab_type": "code",
        "colab": {}
      },
      "source": [
        "def start_ngrok():\n",
        "  get_ipython().system_raw('./ngrok http 8050 &')\n",
        "  !curl -s http://localhost:4040/api/tunnels | python3 -c \\\n",
        "      \"import sys, json; print(json.load(sys.stdin)['tunnels'][0]['public_url'])\"      "
      ],
      "execution_count": null,
      "outputs": []
    },
    {
      "cell_type": "code",
      "metadata": {
        "id": "9pcbG4ueocJf",
        "colab_type": "code",
        "colab": {
          "base_uri": "https://localhost:8080/",
          "height": 34
        },
        "outputId": "455366ad-f5fb-435a-fbef-f87f7fad57e2"
      },
      "source": [
        "%%writefile dash/grafico1.py\n",
        "\n",
        "import plotly.graph_objects as go\n",
        "\n",
        "fig1 = go.Figure(go.Scattermapbox(\n",
        "    mode = \"markers+lines\",\n",
        "    lon = [10, 20, 30],\n",
        "    lat = [10, 20,30],\n",
        "    marker = {'size': 10}))\n",
        "\n",
        "fig1.add_trace(go.Scattermapbox(\n",
        "    mode = \"markers+lines\",\n",
        "    lon = [-50, -60,40],\n",
        "    lat = [30, 10, -20],\n",
        "    marker = {'size': 10}))\n",
        "\n",
        "fig1.update_layout(\n",
        "    margin ={'l':0,'t':0,'b':0,'r':0},\n",
        "    mapbox = {\n",
        "        'center': {'lon': 10, 'lat': 10},\n",
        "        'style': \"stamen-terrain\",\n",
        "        'center': {'lon': -20, 'lat': -20},\n",
        "        'zoom': 1})\n",
        "\n",
        "fig1.show()\n"
      ],
      "execution_count": null,
      "outputs": [
        {
          "output_type": "stream",
          "text": [
            "Overwriting dash/grafico1.py\n"
          ],
          "name": "stdout"
        }
      ]
    },
    {
      "cell_type": "code",
      "metadata": {
        "id": "JKgC4J7YqWrg",
        "colab_type": "code",
        "colab": {
          "base_uri": "https://localhost:8080/",
          "height": 34
        },
        "outputId": "722c3cd6-227b-4a27-ac2b-28c3c2c610c0"
      },
      "source": [
        "%%writefile dash/grafico2.py\n",
        "\n",
        "import plotly.graph_objects as go\n",
        "\n",
        "fig2 = go.Figure(data=go.Streamtube(x=[0, 0, 0], y=[0, 1, 2], z=[0, 0, 0],\n",
        "                                   u=[0, 0, 0], v=[1, 1, 1], w=[0, 0, 0]))\n",
        "fig2.show()"
      ],
      "execution_count": null,
      "outputs": [
        {
          "output_type": "stream",
          "text": [
            "Writing dash/grafico2.py\n"
          ],
          "name": "stdout"
        }
      ]
    },
    {
      "cell_type": "code",
      "metadata": {
        "id": "YpZOQEWgfC55",
        "colab_type": "code",
        "colab": {
          "base_uri": "https://localhost:8080/",
          "height": 34
        },
        "outputId": "5ae826de-041d-4819-f4a4-2c7bafde4c9c"
      },
      "source": [
        "%%writefile dash/templates/index.html\n",
        "\n",
        "<!DOCTYPE html>\n",
        "<html>\n",
        "<head>\n",
        "    <meta charset=\"UTF-8\"/>\n",
        "    <title>dash com flash </title>\n",
        "    <style>\n",
        "    a{\n",
        "        text-decoration: none;\n",
        "        background-color: yellow;\n",
        "        color: red;\n",
        "        border: 3px solid blue\n",
        "        padding:3px 5px;\n",
        "    }\n",
        "    </style>\n",
        "</head>\n",
        "<body>\n",
        "  <center>\n",
        "    <ul>\n",
        "    <li><h1> Seja Bem Vindo! </h1></li>\n",
        "    <li><h2> <a href=\"grafico\"> Clique para Ver o grafico 1 </a></h2></li>\n",
        "    <li><h2> <a href=\"grafico1\"> Clique para Ver o Grafico 2 </a></h2></li>\n",
        "  </center> \n",
        "</ul>\n",
        "</body>\n",
        "</html>"
      ],
      "execution_count": null,
      "outputs": [
        {
          "output_type": "stream",
          "text": [
            "Overwriting dash/templates/index.html\n"
          ],
          "name": "stdout"
        }
      ]
    },
    {
      "cell_type": "code",
      "metadata": {
        "id": "3ywbZ5hm2S0I",
        "colab_type": "code",
        "colab": {}
      },
      "source": [
        "%%writefile dash/main.py\n",
        "import dash\n",
        "import flask\n",
        "import dash_core_components as dcc\n",
        "import dash_html_components as html\n",
        "import plotly.graph_objects as go\n",
        "from flask import Flask, render_template\n",
        "from dash.dependencies import Input, Output\n",
        "\n",
        "server = flask.Flask(__name__)\n",
        "\n",
        "@server.route('/')\n",
        "def index():\n",
        "  return render_template('index.html')\n",
        "\n",
        "\n",
        "app = dash.Dash(\n",
        "    __name__,\n",
        "    server=server,\n",
        "    routes_pathname_prefix='/grafico/'\n",
        "    )\n",
        "app = dash.Dash()\n",
        "app.layout = html.Div([\n",
        "                       dcc.Graph(figure=fig1)\n",
        "                      ])\n",
        "\n",
        "app = dash.Dash(\n",
        "    __name__,\n",
        "    server=server,\n",
        "    routes_pathname_prefix='/grafico1/'\n",
        "    )\n",
        "app = dash.Dash()\n",
        "app.layout = html.Div([\n",
        "                       dcc.Graph(figure=fig2)\n",
        "                      ])\n",
        "\n",
        "if __name__ == '__main__':\n",
        "  app.run_server(debug=True)\n"
      ],
      "execution_count": null,
      "outputs": []
    },
    {
      "cell_type": "code",
      "metadata": {
        "id": "P8ETuzoMnili",
        "colab_type": "code",
        "colab": {}
      },
      "source": [
        "start_ngrok()\n",
        "!python dash/main.py"
      ],
      "execution_count": null,
      "outputs": []
    }
  ]
}