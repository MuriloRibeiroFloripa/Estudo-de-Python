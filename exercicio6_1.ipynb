{
  "nbformat": 4,
  "nbformat_minor": 0,
  "metadata": {
    "colab": {
      "name": "exercicio6_1.ipynb",
      "provenance": [],
      "collapsed_sections": [],
      "authorship_tag": "ABX9TyNSGkzqjh0fwGFq0dAtcc4o",
      "include_colab_link": true
    },
    "kernelspec": {
      "name": "python3",
      "display_name": "Python 3"
    }
  },
  "cells": [
    {
      "cell_type": "markdown",
      "metadata": {
        "id": "view-in-github",
        "colab_type": "text"
      },
      "source": [
        "<a href=\"https://colab.research.google.com/github/murilosenai/Estudo-de-Python/blob/master/exercicio6_1.ipynb\" target=\"_parent\"><img src=\"https://colab.research.google.com/assets/colab-badge.svg\" alt=\"Open In Colab\"/></a>"
      ]
    },
    {
      "cell_type": "code",
      "metadata": {
        "id": "lvhqBbykm0Da",
        "colab_type": "code",
        "colab": {}
      },
      "source": [
        "# Para instalar no colab:\n",
        "\n",
        "#!pip install flask_ngrok\n",
        "#!pip install flask\n",
        "!pip install -q dash\n",
        "!pip install -q dash_core_components\n",
        "!pip install -q dash_html_components\n",
        "!pip install -q dash_table"
      ],
      "execution_count": null,
      "outputs": []
    },
    {
      "cell_type": "code",
      "metadata": {
        "id": "ToRVPccZv3tt",
        "colab_type": "code",
        "colab": {}
      },
      "source": [
        "!wget https://bin.equinox.io/c/4VmDzA7iaHb/ngrok-stable-linux-amd64.zip\n",
        "!unzip ngrok-stable-linux-amd64.zip"
      ],
      "execution_count": null,
      "outputs": []
    },
    {
      "cell_type": "code",
      "metadata": {
        "id": "OcUxQjV4m-Tv",
        "colab_type": "code",
        "colab": {}
      },
      "source": [
        "# Estrutura básica do Servidor:\n",
        "import dash\n",
        "import dash_core_components as dcc\n",
        "import dash_html_components as html\n",
        "app = dash.Dash(__name__)\n",
        "app.layout = html.Div(children=[\n",
        "                                html.H1(children='Hello Dash')\n",
        "                                ])\n",
        "\n",
        "if __name__ == '__main__':\n",
        " app.run_server()"
      ],
      "execution_count": null,
      "outputs": []
    },
    {
      "cell_type": "code",
      "metadata": {
        "id": "B50qQ57tm_Sl",
        "colab_type": "code",
        "colab": {}
      },
      "source": [
        "def start_ngrok():\n",
        "  get_ipython().system_raw('./ngrok http 8050 &')\n",
        "  !curl -s http://localhost:4040/api/tunnels | python3 -c \\\n",
        "      \"import sys, json; print(json.load(sys.stdin)['tunnels'][0]['public_url'])\"\n"
      ],
      "execution_count": null,
      "outputs": []
    },
    {
      "cell_type": "code",
      "metadata": {
        "id": "rtV8TjZqnEHj",
        "colab_type": "code",
        "colab": {}
      },
      "source": [
        "# Assim basta executar a função para receber o novo link do ngrok para executar outro script com o dash.\n",
        "start_ngrok()"
      ],
      "execution_count": null,
      "outputs": []
    },
    {
      "cell_type": "code",
      "metadata": {
        "id": "048AB3xDnITh",
        "colab_type": "code",
        "colab": {}
      },
      "source": [
        "# Integrando flask com dash\n",
        "\n",
        "%%writefile my_app7.py\n",
        "\n",
        "import flask\n",
        "import dash\n",
        "import dash_html_components as html\n",
        "\n",
        "server = flask.Flask(__name__)\n",
        "\n",
        "@server.route('/')\n",
        "def index():\n",
        "  return 'Hello Flask app'  \n",
        "\n",
        "app = dash.Dash(\n",
        "    __name__,\n",
        "    server=server,\n",
        "    routes_pathname_prefix='/dash/'\n",
        "    )\n",
        "\n",
        "app.layout = html.Div(\"My Dash app\")\n",
        "\n",
        "if __name__ == '__main__':\n",
        "  app.run_server(debug=True)"
      ],
      "execution_count": null,
      "outputs": []
    },
    {
      "cell_type": "code",
      "metadata": {
        "id": "7bymDwIonMrS",
        "colab_type": "code",
        "colab": {}
      },
      "source": [
        "start_ngrok()\n",
        "!python my_app7.py"
      ],
      "execution_count": null,
      "outputs": []
    },
    {
      "cell_type": "code",
      "metadata": {
        "id": "A296YOkinPWL",
        "colab_type": "code",
        "colab": {}
      },
      "source": [
        "# Animação Exemplo 1:\n",
        "\n",
        "import plotly.express as px\n",
        "\n",
        "df = px.data.gapminder()\n",
        "px.scatter(df, x=\"gdpPercap\" , y=\"lifeExp\", animation_frame =\"year\", animation_group =\"country\",\n",
        " size= \"pop\", color=\"continent\" , hover_name= \"country\",\n",
        " log_x= True, size_max= 55, range_x=[ 100,100000], range_y=[ 25,90])"
      ],
      "execution_count": null,
      "outputs": []
    },
    {
      "cell_type": "code",
      "metadata": {
        "id": "MXDw0vConSta",
        "colab_type": "code",
        "colab": {}
      },
      "source": [
        "# Animação Exemplo 2:\n",
        "\n",
        "import plotly.express as px\n",
        "\n",
        "df = px.data.gapminder()\n",
        "fig = px.bar(df, x=\"continent\", y=\"pop\", color=\"continent\",\n",
        " animation_frame=\"year\", animation_group=\"country\", range_y=[0,4000000000])\n",
        "fig.show()"
      ],
      "execution_count": null,
      "outputs": []
    },
    {
      "cell_type": "code",
      "metadata": {
        "id": "B2WcpT3vnVVp",
        "colab_type": "code",
        "colab": {}
      },
      "source": [
        "# Animação\n",
        "# ● Exemplo de um botão que ativa diversos frames:\n",
        "\n",
        "import plotly.graph_objects as go\n",
        "\n",
        "fig = go.Figure(\n",
        "    data=[go.Scatter(x=[0, 1], y=[0, 1])],\n",
        "    layout=go.Layout(\n",
        "        xaxis=dict(range=[0, 5], autorange=False),\n",
        "        yaxis=dict(range=[0, 5], autorange=False),\n",
        "        title=\"Start Title\",\n",
        "        updatemenus=[dict(\n",
        "            type=\"buttons\",\n",
        "            buttons=[dict(label=\"Play\",\n",
        "                          method=\"animate\",\n",
        "                          args=[None])])]\n",
        "                     \n",
        " ),\n",
        " frames=[go.Frame(data=[go.Scatter(x=[1, 2], y=[1, 2])]),\n",
        " go.Frame(data=[go.Scatter(x=[1, 4], y=[1, 4])]),\n",
        " go.Frame(data=[go.Scatter(x=[3, 4], y=[3, 4])],\n",
        "          layout=go.Layout(title_text=\"End Title\"))]\n",
        "          )\n",
        "fig.show()"
      ],
      "execution_count": null,
      "outputs": []
    },
    {
      "cell_type": "code",
      "metadata": {
        "id": "lafxy5ohnX-t",
        "colab_type": "code",
        "colab": {}
      },
      "source": [
        "# Animação\n",
        "# ● Para integrar com o dash, basta utilizar a figura gerada:\n",
        "\n",
        "import dash\n",
        "import dash_core_components as dcc\n",
        "import dash_html_components as html\n",
        "import plotly.graph_objects as go # or plotly.express as px\n",
        "#fig = go.Figure() # or any Plotly Express function e.g. px.bar(...)\n",
        "\n",
        "start_ngrok()\n",
        "app = dash.Dash()\n",
        "app.layout = html.Div([\n",
        "                       dcc.Graph(figure=fig)\n",
        "                       ])\n",
        "\n",
        "app.run_server(debug=True, use_reloader=False) # Turn off reloader if inside Jupyter"
      ],
      "execution_count": null,
      "outputs": []
    },
    {
      "cell_type": "code",
      "metadata": {
        "id": "-fwjNxFAncEk",
        "colab_type": "code",
        "colab": {}
      },
      "source": [
        "# Animação\n",
        "# ● Exemplo de seno:\n",
        "\n",
        "import numpy as np\n",
        "import plotly.express as px\n",
        "\n",
        "t = np.linspace( 0, 10, 100)\n",
        "\n",
        "fig_seno = px.bar(x=t, y=np.sin(t), labels={ 'x':'t', 'y':'sin(t)'})\n",
        "\n",
        "fig_seno.show()\n"
      ],
      "execution_count": null,
      "outputs": []
    }
  ]
}