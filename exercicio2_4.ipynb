{
  "nbformat": 4,
  "nbformat_minor": 0,
  "metadata": {
    "colab": {
      "name": "exercicio2_4.ipynb",
      "provenance": [],
      "collapsed_sections": [],
      "authorship_tag": "ABX9TyPyqf9ELO1MvSbZyJba46O+",
      "include_colab_link": true
    },
    "kernelspec": {
      "name": "python3",
      "display_name": "Python 3"
    }
  },
  "cells": [
    {
      "cell_type": "markdown",
      "metadata": {
        "id": "view-in-github",
        "colab_type": "text"
      },
      "source": [
        "<a href=\"https://colab.research.google.com/github/murilosenai/Estudo-de-Python/blob/master/exercicio2_4.ipynb\" target=\"_parent\"><img src=\"https://colab.research.google.com/assets/colab-badge.svg\" alt=\"Open In Colab\"/></a>"
      ]
    },
    {
      "cell_type": "code",
      "metadata": {
        "id": "N3VrAO9oCLtE",
        "colab_type": "code",
        "colab": {
          "base_uri": "https://localhost:8080/",
          "height": 323
        },
        "outputId": "a60d4649-a799-4b9a-ee01-8e4582f11106"
      },
      "source": [
        "# Tenha uma função que desenhe um retângulo usando os caracteres ‘+’, ‘-’ e ‘|’. Esta função deve\n",
        "# receber dois parâmetros, linhas e colunas, sendo o valor mínimo igual a 1 e o valor máximo é 20.\n",
        "# Se forem informados valores fora da faixa, eles devem ser modificados para valores dentro da faixa.\n",
        "\n",
        "import random\n",
        "import os\n",
        "\n",
        "def retangulo(largura, altura):\n",
        "    if largura > 20:\n",
        "        largura = 20\n",
        "    if altura > 20:\n",
        "        altura = 20\n",
        "    print('-+-' * largura)\n",
        "    c = 0\n",
        "    while c < altura:\n",
        "        z = '|'\n",
        "        print(f'{z}{z:>{(largura *3 - 1)}}')\n",
        "        c += 1\n",
        "    print('-+-' * largura)\n",
        "\n",
        "\n",
        "largura = int(input('Digite a largura: '))\n",
        "altura = int(input('Digite a altura: '))\n",
        "retangulo(largura, altura)\n",
        "\n",
        "print()\n",
        "print()\n",
        "print()\n",
        "os.system(\"pause\")"
      ],
      "execution_count": null,
      "outputs": [
        {
          "output_type": "stream",
          "text": [
            "Digite a largura: 15\n",
            "Digite a altura: 10\n",
            "-+--+--+--+--+--+--+--+--+--+--+--+--+--+--+-\n",
            "|                                           |\n",
            "|                                           |\n",
            "|                                           |\n",
            "|                                           |\n",
            "|                                           |\n",
            "|                                           |\n",
            "|                                           |\n",
            "|                                           |\n",
            "|                                           |\n",
            "|                                           |\n",
            "-+--+--+--+--+--+--+--+--+--+--+--+--+--+--+-\n",
            "\n",
            "\n",
            "\n"
          ],
          "name": "stdout"
        },
        {
          "output_type": "execute_result",
          "data": {
            "text/plain": [
              "32512"
            ]
          },
          "metadata": {
            "tags": []
          },
          "execution_count": 40
        }
      ]
    },
    {
      "cell_type": "code",
      "metadata": {
        "id": "u6SKgosfCFFy",
        "colab_type": "code",
        "colab": {}
      },
      "source": [
        ""
      ],
      "execution_count": null,
      "outputs": []
    }
  ]
}